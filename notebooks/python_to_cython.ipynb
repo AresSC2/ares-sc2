{
 "cells": [
  {
   "cell_type": "code",
   "execution_count": 1,
   "id": "e5a716a2-bfd6-4ba5-91bb-83d043d4f0f9",
   "metadata": {},
   "outputs": [
    {
     "name": "stderr",
     "output_type": "stream",
     "text": [
      "C:\\Users\\Tom\\AppData\\Local\\pypoetry\\Cache\\virtualenvs\\ares-sc2-S437wHWG-py3.9\\lib\\site-packages\\tqdm\\auto.py:21: TqdmWarning: IProgress not found. Please update jupyter and ipywidgets. See https://ipywidgets.readthedocs.io/en/stable/user_install.html\n",
      "  from .autonotebook import tqdm as notebook_tqdm\n"
     ]
    }
   ],
   "source": [
    "import sys\n",
    "import lzma\n",
    "from s2clientprotocol.sc2api_pb2 import Response, ResponseObservation\n",
    "from MapAnalyzer.utils import import_bot_instance\n",
    "from MapAnalyzer import MapData\n",
    "import pickle\n",
    "import numpy as np\n",
    "import matplotlib.pyplot as plt\n",
    "sys.path.append(\"../src\")\n",
    "sys.path.append(\"../src/ares\")\n",
    "from sc2.position import Point2\n",
    "%load_ext line_profiler\n",
    "%load_ext Cython"
   ]
  },
  {
   "cell_type": "code",
   "execution_count": 3,
   "id": "b7789f35-7956-4843-821e-3b52db330b47",
   "metadata": {},
   "outputs": [
    {
     "name": "stderr",
     "output_type": "stream",
     "text": [
      "2023-05-23 10:48:26.160 | INFO     | MapAnalyzer.MapData:__init__:122 - dev Compiling Berlingrad AIE \u001b[32m\n",
      "\u001b[32m Version dev Map Compilation Progress \u001b[37m: 0.4it [00:00,  1.49it/s]\n"
     ]
    }
   ],
   "source": [
    "BERLINGRAD = \"../tests/pickle_data/BerlingradAIE.xz\"\n",
    "with lzma.open(BERLINGRAD, \"rb\") as f:\n",
    "    raw_game_data, raw_game_info, raw_observation = pickle.load(f)\n",
    "bot = import_bot_instance(raw_game_data, raw_game_info, raw_observation)\n",
    "data = MapData(bot)"
   ]
  },
  {
   "cell_type": "markdown",
   "id": "b05ffcbc-92a8-4bb2-9f13-ce2c5ecd7796",
   "metadata": {},
   "source": [
    "# Converting `is_position_safe` to cython"
   ]
  },
  {
   "cell_type": "code",
   "execution_count": 69,
   "id": "7f4a00c5-5d01-4b7e-8f03-887a8196f444",
   "metadata": {},
   "outputs": [],
   "source": [
    "grid = data.get_pyastar_grid()\n",
    "position = bot.enemy_start_locations[0]"
   ]
  },
  {
   "cell_type": "markdown",
   "id": "9fc1c710-be0c-4aa8-8f05-6d9c1e8e0373",
   "metadata": {},
   "source": [
    "## Python version of `is_position_safe`"
   ]
  },
  {
   "cell_type": "code",
   "execution_count": 70,
   "id": "a811bbf3-7a19-4ede-9332-cfe8f301965c",
   "metadata": {},
   "outputs": [],
   "source": [
    "def is_position_safe(\n",
    "    grid: np.ndarray,\n",
    "    position: Point2,\n",
    "    weight_safety_limit: float = 1.0,\n",
    ") -> bool:\n",
    "    weight: float = grid[position.rounded]\n",
    "    # np.inf check if drone is pathing near a spore crawler\n",
    "    return weight == np.inf or weight <= weight_safety_limit"
   ]
  },
  {
   "cell_type": "code",
   "execution_count": 67,
   "id": "078f2253-0351-4fbe-ab21-132c84e6567e",
   "metadata": {},
   "outputs": [
    {
     "name": "stdout",
     "output_type": "stream",
     "text": [
      "4.67 µs ± 76.5 ns per loop (mean ± std. dev. of 7 runs, 100,000 loops each)\n"
     ]
    }
   ],
   "source": [
    "%timeit is_position_safe(grid, position)"
   ]
  },
  {
   "cell_type": "code",
   "execution_count": 71,
   "id": "e8e29398-6514-49a4-bc45-2bf48b4d0d46",
   "metadata": {},
   "outputs": [
    {
     "data": {
      "text/plain": [
       "Timer unit: 1e-07 s\n",
       "\n",
       "Total time: 5.35e-05 s\n",
       "File: C:\\Users\\Tom\\AppData\\Local\\Temp\\ipykernel_24904\\2777119042.py\n",
       "Function: is_position_safe at line 1\n",
       "\n",
       "Line #      Hits         Time  Per Hit   % Time  Line Contents\n",
       "==============================================================\n",
       "     1                                           def is_position_safe(\n",
       "     2                                               grid: np.ndarray,\n",
       "     3                                               position: Point2,\n",
       "     4                                               weight_safety_limit: float = 1.0,\n",
       "     5                                           ) -> bool:\n",
       "     6         1        157.0    157.0     29.3      weight: float = grid[position.rounded]\n",
       "     7                                               # np.inf check if drone is pathing near a spore crawler\n",
       "     8         1        378.0    378.0     70.7      return weight == np.inf or weight <= weight_safety_limit"
      ]
     },
     "metadata": {},
     "output_type": "display_data"
    }
   ],
   "source": [
    "%lprun -f is_position_safe is_position_safe(grid, position)"
   ]
  },
  {
   "cell_type": "markdown",
   "id": "cf584263-83aa-4d3e-8618-bc1b0cb93222",
   "metadata": {},
   "source": [
    "## Cython version of `is_position_safe`"
   ]
  },
  {
   "cell_type": "code",
   "execution_count": 73,
   "id": "8e29b67e-a9db-404e-9a3d-558e50ca92ab",
   "metadata": {},
   "outputs": [],
   "source": [
    "%%cython\n",
    "import numpy as np\n",
    "cimport numpy as cnp\n",
    "from cython cimport boundscheck, wraparound\n",
    "@boundscheck(False)\n",
    "@wraparound(False)\n",
    "cpdef bint is_position_safe(\n",
    "    cnp.ndarray[cnp.npy_float32, ndim=2] grid,\n",
    "    (unsigned int, unsigned int) position,\n",
    "    double weight_safety_limit = 1.0,\n",
    "):\n",
    "    cdef double weight = 0.0\n",
    "    weight = grid[position[0], position[1]]\n",
    "    # np.inf check if drone is pathing near a spore crawler\n",
    "    return weight == np.inf or weight <= weight_safety_limit"
   ]
  },
  {
   "cell_type": "code",
   "execution_count": 74,
   "id": "9493b417-438e-480d-a07e-a1945ebc8a72",
   "metadata": {},
   "outputs": [
    {
     "name": "stdout",
     "output_type": "stream",
     "text": [
      "812 ns ± 8.41 ns per loop (mean ± std. dev. of 7 runs, 1,000,000 loops each)\n"
     ]
    }
   ],
   "source": [
    "%timeit is_position_safe(grid, position.rounded)"
   ]
  },
  {
   "cell_type": "markdown",
   "id": "09627f82-7a06-4cf6-8598-53a4d0d02089",
   "metadata": {},
   "source": [
    "# Alternative to `python-sc2`'s `units.closest_to`"
   ]
  },
  {
   "cell_type": "code",
   "execution_count": 78,
   "id": "22dfffb3-d960-4de3-b91f-ca70404e23d6",
   "metadata": {},
   "outputs": [],
   "source": [
    "units = bot.all_units\n",
    "position = bot.enemy_start_locations[0]\n",
    "unit = units[0]"
   ]
  },
  {
   "cell_type": "code",
   "execution_count": 79,
   "id": "30394917-a822-4240-9d10-59a513dedbeb",
   "metadata": {},
   "outputs": [
    {
     "name": "stdout",
     "output_type": "stream",
     "text": [
      "301 µs ± 4.34 µs per loop (mean ± std. dev. of 7 runs, 1,000 loops each)\n"
     ]
    }
   ],
   "source": [
    "# slower using closest_to(Point2)\n",
    "%timeit units.closest_to(position)"
   ]
  },
  {
   "cell_type": "code",
   "execution_count": 109,
   "id": "cd0da159-95b9-421c-9a3a-c0b18981f2b0",
   "metadata": {},
   "outputs": [
    {
     "name": "stdout",
     "output_type": "stream",
     "text": [
      "115 µs ± 2.25 µs per loop (mean ± std. dev. of 7 runs, 10,000 loops each)\n"
     ]
    }
   ],
   "source": [
    "# this is faster since distance between all units is cached\n",
    "%timeit units.closest_to(unit)"
   ]
  },
  {
   "cell_type": "code",
   "execution_count": 139,
   "id": "e62eb7cf-ba00-429f-9e4d-32b54e592fc0",
   "metadata": {},
   "outputs": [],
   "source": [
    "%%cython\n",
    "from cython cimport boundscheck, wraparound\n",
    "\n",
    "cdef double euclidean_distance_squared(\n",
    "        (float, float) p1,\n",
    "        (float, float) p2\n",
    "):\n",
    "    return (p1[0] - p2[0]) ** 2 + (p1[1] - p2[1]) ** 2\n",
    "\n",
    "@boundscheck(False)\n",
    "@wraparound(False)\n",
    "cpdef object closest_to((float, float) position, object units):\n",
    "    cdef:\n",
    "        object closest = units[0]\n",
    "        double closest_dist = 999.9\n",
    "        double dist = 0.0\n",
    "        unsigned int len_units = len(units)\n",
    "        (float, float) pos\n",
    "        \n",
    "    for i in range(len_units):\n",
    "        unit = units[i]\n",
    "        pos = unit.position\n",
    "        dist = euclidean_distance_squared((pos[0], pos[1]), (position[0], position[1]))\n",
    "        if dist < closest_dist:\n",
    "            closest_dist = dist\n",
    "            closest = unit\n",
    "            \n",
    "    return closest\n"
   ]
  },
  {
   "cell_type": "code",
   "execution_count": 140,
   "id": "37d3042d-bf7d-44c5-8992-50f97df8e781",
   "metadata": {},
   "outputs": [
    {
     "name": "stdout",
     "output_type": "stream",
     "text": [
      "14.9 µs ± 159 ns per loop (mean ± std. dev. of 7 runs, 100,000 loops each)\n"
     ]
    }
   ],
   "source": [
    "%timeit closest_to(position, units)"
   ]
  },
  {
   "cell_type": "code",
   "execution_count": null,
   "id": "fbac5cd7-553a-4590-9ad3-a3d39691a977",
   "metadata": {},
   "outputs": [],
   "source": []
  }
 ],
 "metadata": {
  "kernelspec": {
   "display_name": "Poetry",
   "language": "python",
   "name": "poetry-kernel"
  },
  "language_info": {
   "codemirror_mode": {
    "name": "ipython",
    "version": 3
   },
   "file_extension": ".py",
   "mimetype": "text/x-python",
   "name": "python",
   "nbconvert_exporter": "python",
   "pygments_lexer": "ipython3",
   "version": "3.9.12"
  }
 },
 "nbformat": 4,
 "nbformat_minor": 5
}
