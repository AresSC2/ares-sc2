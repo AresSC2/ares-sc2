{
 "cells": [
  {
   "cell_type": "code",
   "execution_count": 1,
   "id": "e5a716a2-bfd6-4ba5-91bb-83d043d4f0f9",
   "metadata": {},
   "outputs": [
    {
     "name": "stderr",
     "output_type": "stream",
     "text": [
      "C:\\Users\\Tom\\AppData\\Local\\pypoetry\\Cache\\virtualenvs\\ares-sc2-S437wHWG-py3.11\\Lib\\site-packages\\tqdm\\auto.py:21: TqdmWarning: IProgress not found. Please update jupyter and ipywidgets. See https://ipywidgets.readthedocs.io/en/stable/user_install.html\n",
      "  from .autonotebook import tqdm as notebook_tqdm\n",
      "2023-08-21 19:48:16.818 | INFO     | MapAnalyzer.MapData:__init__:122 - dev Compiling GresvanAIE \u001b[32m\n",
      "\u001b[32m Version dev Map Compilation Progress \u001b[37m: 0.4it [00:00,  1.23it/s]\n",
      "2023-08-21 19:48:17.226 | INFO     | ares.managers.placement_manager:initialise:175 - Solved placement formation in 13.519048690795898 ms\n",
      "2023-08-21 19:48:17.397 | INFO     | MapAnalyzer.MapData:__init__:122 - dev Compiling GresvanAIE \u001b[32m\n",
      "\u001b[32m Version dev Map Compilation Progress \u001b[37m: 0.4it [00:00,  1.21it/s]\n"
     ]
    }
   ],
   "source": [
    "# This cell imports stuff, and sets up a bot instance etc\n",
    "\n",
    "import sys\n",
    "import lzma\n",
    "from s2clientprotocol.sc2api_pb2 import Response, ResponseObservation\n",
    "from MapAnalyzer.MapData import MapData\n",
    "import pickle\n",
    "import numpy as np\n",
    "import matplotlib.pyplot as plt\n",
    "sys.path.append(\"../src\")\n",
    "sys.path.append(\"../tests\")\n",
    "sys.path.append(\"../src/ares\")\n",
    "from sc2.position import Point2\n",
    "from sc2.client import Client\n",
    "from sc2.game_data import GameData\n",
    "from sc2.game_info import GameInfo\n",
    "from sc2.game_state import GameState\n",
    "from unittest.mock import patch\n",
    "from ares import AresBot\n",
    "from ares.dicts.unit_data import UNIT_DATA\n",
    "from sc2.bot_ai import BotAI\n",
    "\n",
    "# load AresBot and MapAnalyzer object instances from pickled files\n",
    "from tests.load_bot_from_pickle import build_bot_object_from_pickle_data\n",
    "GRESVAN = \"../tests/pickle_data/GresvanAIE.xz\"\n",
    "bot = await build_bot_object_from_pickle_data(GRESVAN)\n",
    "data = MapData(bot)\n",
    "\n",
    "# common variables\n",
    "grid = data.get_pyastar_grid()\n",
    "position = bot.enemy_start_locations[0]\n",
    "units = bot.all_units\n",
    "\n",
    "%load_ext line_profiler\n",
    "%load_ext Cython"
   ]
  },
  {
   "cell_type": "markdown",
   "id": "002419d1-a1d9-4937-8e9b-6fa47d97250a",
   "metadata": {},
   "source": [
    "# Cythonizing commonly used functions in a python-sc2 bot\n",
    "\n",
    "Actual speedups many vary as notebook gets rerun\n",
    "\n",
    "* [Converting is_position_safe](#Python-version-of-is_position_safe) **6.57x speedup**\n",
    "* [Alternative to python-sc2's units.closest_to](#Alternative-to-python-sc2's-units.closest_to) **6.7x speedup**\n",
    "* [Speeding up `Units.center`](#Speeding-up-Units.center) **2.01x speedup**\n",
    "* [Distance to / `unit.distance_to`](#Distance-to-/-unit.distance_to) **2.47x speedup**\n",
    "* [Convert `already_pending` for units](#Convert-already_pending-for-units) **6.62x speedup**\n",
    "* [Alternative to `python-sc2`'s `units.in_attack_range`](#Alternative-to-python-sc2's-units.in_attack_range) **4.17x speedup**\n",
    "* [Calculate if attack is ready](#Calculate-if-attack-is-ready) **3.87x speedup**\n",
    "* [Pick enemy target](#Pick-enemy-target) **1.63x speedup**\n",
    "* [Converting `units.sorted_by_distance_to`](#Converting-units.sorted_by_distance_to) **7.3x speedup**\n",
    "* [Convert `unit.is_facing()`](#Convert-unit.is_facing()) **9.1x speedup**\n",
    "* [Convert `Point2.towards()`](#Convert-Point2.towards()) **14.29x speedup**"
   ]
  },
  {
   "cell_type": "markdown",
   "id": "b05ffcbc-92a8-4bb2-9f13-ce2c5ecd7796",
   "metadata": {},
   "source": [
    "# Converting `is_position_safe` to cython"
   ]
  },
  {
   "cell_type": "markdown",
   "id": "9fc1c710-be0c-4aa8-8f05-6d9c1e8e0373",
   "metadata": {},
   "source": [
    "## Python version of `is_position_safe`"
   ]
  },
  {
   "cell_type": "code",
   "execution_count": 2,
   "id": "a811bbf3-7a19-4ede-9332-cfe8f301965c",
   "metadata": {},
   "outputs": [],
   "source": [
    "def is_position_safe(\n",
    "    grid: np.ndarray,\n",
    "    position: Point2,\n",
    "    weight_safety_limit: float = 1.0,\n",
    ") -> bool:\n",
    "    weight: float = grid[position.rounded]\n",
    "    # np.inf check if drone is pathing near a spore crawler\n",
    "    return weight == np.inf or weight <= weight_safety_limit"
   ]
  },
  {
   "cell_type": "code",
   "execution_count": 3,
   "id": "078f2253-0351-4fbe-ab21-132c84e6567e",
   "metadata": {},
   "outputs": [
    {
     "name": "stdout",
     "output_type": "stream",
     "text": [
      "2.3 µs ± 17.3 ns per loop (mean ± std. dev. of 7 runs, 100,000 loops each)\n"
     ]
    }
   ],
   "source": [
    "%timeit is_position_safe(grid, position)"
   ]
  },
  {
   "cell_type": "code",
   "execution_count": 4,
   "id": "e8e29398-6514-49a4-bc45-2bf48b4d0d46",
   "metadata": {},
   "outputs": [
    {
     "data": {
      "text/plain": [
       "Timer unit: 1e-07 s\n",
       "\n",
       "Total time: 4.81e-05 s\n",
       "File: C:\\Users\\Tom\\AppData\\Local\\Temp\\ipykernel_23956\\2777119042.py\n",
       "Function: is_position_safe at line 1\n",
       "\n",
       "Line #      Hits         Time  Per Hit   % Time  Line Contents\n",
       "==============================================================\n",
       "     1                                           def is_position_safe(\n",
       "     2                                               grid: np.ndarray,\n",
       "     3                                               position: Point2,\n",
       "     4                                               weight_safety_limit: float = 1.0,\n",
       "     5                                           ) -> bool:\n",
       "     6         1        174.0    174.0     36.2      weight: float = grid[position.rounded]\n",
       "     7                                               # np.inf check if drone is pathing near a spore crawler\n",
       "     8         1        307.0    307.0     63.8      return weight == np.inf or weight <= weight_safety_limit"
      ]
     },
     "metadata": {},
     "output_type": "display_data"
    }
   ],
   "source": [
    "%lprun -f is_position_safe is_position_safe(grid, position)"
   ]
  },
  {
   "cell_type": "markdown",
   "id": "cf584263-83aa-4d3e-8618-bc1b0cb93222",
   "metadata": {},
   "source": [
    "## Cython version of `is_position_safe`"
   ]
  },
  {
   "cell_type": "code",
   "execution_count": 5,
   "id": "8e29b67e-a9db-404e-9a3d-558e50ca92ab",
   "metadata": {},
   "outputs": [],
   "source": [
    "%%cython\n",
    "import numpy as np\n",
    "cimport numpy as cnp\n",
    "from cython cimport boundscheck, wraparound\n",
    "@boundscheck(False)\n",
    "@wraparound(False)\n",
    "cpdef bint is_position_safe(\n",
    "    cnp.ndarray[cnp.npy_float32, ndim=2] grid,\n",
    "    (unsigned int, unsigned int) position,\n",
    "    double weight_safety_limit = 1.0,\n",
    "):\n",
    "    cdef double weight = 0.0\n",
    "    weight = grid[position[0], position[1]]\n",
    "    # np.inf check if drone is pathing near a spore crawler\n",
    "    return weight == np.inf or weight <= weight_safety_limit"
   ]
  },
  {
   "cell_type": "code",
   "execution_count": 6,
   "id": "9493b417-438e-480d-a07e-a1945ebc8a72",
   "metadata": {},
   "outputs": [
    {
     "name": "stdout",
     "output_type": "stream",
     "text": [
      "612 ns ± 2.97 ns per loop (mean ± std. dev. of 7 runs, 1,000,000 loops each)\n"
     ]
    }
   ],
   "source": [
    "%timeit is_position_safe(grid, position.rounded)"
   ]
  },
  {
   "cell_type": "markdown",
   "id": "09627f82-7a06-4cf6-8598-53a4d0d02089",
   "metadata": {},
   "source": [
    "# Alternative to `python-sc2`'s `units.closest_to`"
   ]
  },
  {
   "cell_type": "code",
   "execution_count": 7,
   "id": "22dfffb3-d960-4de3-b91f-ca70404e23d6",
   "metadata": {},
   "outputs": [],
   "source": [
    "units = bot.all_units\n",
    "position = bot.enemy_start_locations[0]\n",
    "unit = units[0]"
   ]
  },
  {
   "cell_type": "code",
   "execution_count": 8,
   "id": "30394917-a822-4240-9d10-59a513dedbeb",
   "metadata": {},
   "outputs": [
    {
     "name": "stdout",
     "output_type": "stream",
     "text": [
      "242 µs ± 1.11 µs per loop (mean ± std. dev. of 7 runs, 1,000 loops each)\n"
     ]
    }
   ],
   "source": [
    "# slower using closest_to(Point2)\n",
    "%timeit units.closest_to(position)"
   ]
  },
  {
   "cell_type": "code",
   "execution_count": 9,
   "id": "cd0da159-95b9-421c-9a3a-c0b18981f2b0",
   "metadata": {},
   "outputs": [
    {
     "name": "stdout",
     "output_type": "stream",
     "text": [
      "125 µs ± 918 ns per loop (mean ± std. dev. of 7 runs, 10,000 loops each)\n"
     ]
    }
   ],
   "source": [
    "# this is faster since distance between all units is cached\n",
    "%timeit units.closest_to(unit)"
   ]
  },
  {
   "cell_type": "code",
   "execution_count": 10,
   "id": "e62eb7cf-ba00-429f-9e4d-32b54e592fc0",
   "metadata": {},
   "outputs": [],
   "source": [
    "%%cython\n",
    "from cython cimport boundscheck, wraparound\n",
    "\n",
    "cdef double euclidean_distance_squared(\n",
    "        (float, float) p1,\n",
    "        (float, float) p2\n",
    "):\n",
    "    return (p1[0] - p2[0]) ** 2 + (p1[1] - p2[1]) ** 2\n",
    "\n",
    "@boundscheck(False)\n",
    "@wraparound(False)\n",
    "cpdef object closest_to((float, float) position, object units):\n",
    "    cdef:\n",
    "        object closest = units[0]\n",
    "        double closest_dist = 999.9\n",
    "        double dist = 0.0\n",
    "        unsigned int len_units = len(units)\n",
    "        (float, float) pos\n",
    "        \n",
    "    for i in range(len_units):\n",
    "        unit = units[i]\n",
    "        pos = unit.position\n",
    "        dist = euclidean_distance_squared((pos[0], pos[1]), (position[0], position[1]))\n",
    "        if dist < closest_dist:\n",
    "            closest_dist = dist\n",
    "            closest = unit\n",
    "            \n",
    "    return closest\n"
   ]
  },
  {
   "cell_type": "code",
   "execution_count": 11,
   "id": "37d3042d-bf7d-44c5-8992-50f97df8e781",
   "metadata": {},
   "outputs": [
    {
     "name": "stdout",
     "output_type": "stream",
     "text": [
      "16.4 µs ± 103 ns per loop (mean ± std. dev. of 7 runs, 100,000 loops each)\n"
     ]
    }
   ],
   "source": [
    "%timeit closest_to(position, units)"
   ]
  },
  {
   "cell_type": "markdown",
   "id": "850be58c-42d2-4c14-824b-dc20d76f7435",
   "metadata": {},
   "source": [
    "# Speeding up `Units.center`"
   ]
  },
  {
   "cell_type": "markdown",
   "id": "70ae0f3e-eed2-42f5-856e-8b93140f33a8",
   "metadata": {},
   "source": [
    "Similar to `units.center` in `python-sc2`, but tweaked to work in this notebook"
   ]
  },
  {
   "cell_type": "code",
   "execution_count": 12,
   "id": "01918ede-b9f9-448a-adda-06ae400ec399",
   "metadata": {},
   "outputs": [],
   "source": [
    "from sc2.position import Point2\n",
    "def center(units) -> Point2:\n",
    "    \"\"\"Returns the central position of all units.\"\"\"\n",
    "    assert units, f\"Units object is empty\"\n",
    "    amount = units.amount\n",
    "    return Point2(\n",
    "        (\n",
    "            sum(unit._proto.pos.x for unit in units) / amount,\n",
    "            sum(unit._proto.pos.y for unit in units) / amount,\n",
    "        )\n",
    "    )"
   ]
  },
  {
   "cell_type": "code",
   "execution_count": 13,
   "id": "324a2d0e-2e0d-4791-b488-0f73b2035865",
   "metadata": {},
   "outputs": [
    {
     "name": "stdout",
     "output_type": "stream",
     "text": [
      "134 µs ± 515 ns per loop (mean ± std. dev. of 7 runs, 10,000 loops each)\n"
     ]
    }
   ],
   "source": [
    "%timeit center(units)"
   ]
  },
  {
   "cell_type": "markdown",
   "id": "4da61abc-7654-44e0-b2d6-6fcf80db7007",
   "metadata": {},
   "source": [
    "## Convert `Units.center` to cython"
   ]
  },
  {
   "cell_type": "code",
   "execution_count": 14,
   "id": "9f75b773-c480-4767-82ac-6a026117aba3",
   "metadata": {},
   "outputs": [],
   "source": [
    "%%cython\n",
    "\n",
    "cimport cython\n",
    "from sc2.position import Point2\n",
    "\n",
    "@cython.boundscheck(False)\n",
    "@cython.wraparound(False)\n",
    "cpdef (double, double) cy_center(object units):\n",
    "    \"\"\"Returns the central position of all units.\"\"\"\n",
    "    cdef:\n",
    "        unsigned int i = 0\n",
    "        unsigned int num_units = len(units)\n",
    "        double sum_x, sum_y = 0.0\n",
    "        (double, double) position\n",
    "        object unit\n",
    "\n",
    "    for i in range(num_units):\n",
    "        pos = units[i]._proto.pos\n",
    "        position = (pos.x, pos.y)\n",
    "        sum_x += position[0]\n",
    "        sum_y += position[1]\n",
    "\n",
    "    return (sum_x / num_units, sum_y / num_units)"
   ]
  },
  {
   "cell_type": "code",
   "execution_count": 15,
   "id": "092e7ada-ca61-4d39-a8a8-83b6908527f0",
   "metadata": {},
   "outputs": [
    {
     "name": "stdout",
     "output_type": "stream",
     "text": [
      "65.3 µs ± 278 ns per loop (mean ± std. dev. of 7 runs, 10,000 loops each)\n"
     ]
    }
   ],
   "source": [
    "%timeit Point2(cy_center(units))"
   ]
  },
  {
   "cell_type": "markdown",
   "id": "47028923-1d3f-40eb-aba5-1e87c67a9d51",
   "metadata": {},
   "source": [
    "# Distance to / `unit.distance_to`"
   ]
  },
  {
   "cell_type": "markdown",
   "id": "fab1ee77-9ce9-4119-a617-b7eac3e8f97d",
   "metadata": {},
   "source": [
    "Check and profile distances between 2 units / 1 unit and a Point2 / two Point2's using `python-sc2` implementation of `distance_to`. \n",
    "\n",
    "Then see if cython does it faster"
   ]
  },
  {
   "cell_type": "code",
   "execution_count": 16,
   "id": "e3accea5-8efd-4f60-abaa-efab48d41a76",
   "metadata": {},
   "outputs": [],
   "source": [
    "unit1 = bot.workers[0]\n",
    "unit2 = bot.workers[4]\n",
    "position1 = bot.game_info.map_center\n",
    "position2 = bot.main_base_ramp.top_center"
   ]
  },
  {
   "cell_type": "code",
   "execution_count": 17,
   "id": "5ad995bd-333b-4c88-8756-855b478959a4",
   "metadata": {},
   "outputs": [
    {
     "data": {
      "text/plain": [
       "6.0901554167386"
      ]
     },
     "execution_count": 17,
     "metadata": {},
     "output_type": "execute_result"
    }
   ],
   "source": [
    "unit1.distance_to(unit2)"
   ]
  },
  {
   "cell_type": "code",
   "execution_count": 18,
   "id": "79d7255d-e556-4188-b019-3616ccac108b",
   "metadata": {},
   "outputs": [
    {
     "name": "stdout",
     "output_type": "stream",
     "text": [
      "620 ns ± 6.94 ns per loop (mean ± std. dev. of 7 runs, 1,000,000 loops each)\n"
     ]
    }
   ],
   "source": [
    "%timeit unit1.distance_to(unit2)"
   ]
  },
  {
   "cell_type": "code",
   "execution_count": 19,
   "id": "d2b51945-e464-4db4-b670-6c2b3ea97487",
   "metadata": {},
   "outputs": [
    {
     "data": {
      "text/plain": [
       "75.3884622135151"
      ]
     },
     "execution_count": 19,
     "metadata": {},
     "output_type": "execute_result"
    }
   ],
   "source": [
    "unit1.distance_to(position1)"
   ]
  },
  {
   "cell_type": "code",
   "execution_count": 20,
   "id": "8b02671b-ec26-4838-a4ad-895111cc4983",
   "metadata": {},
   "outputs": [
    {
     "name": "stdout",
     "output_type": "stream",
     "text": [
      "1.04 µs ± 5.32 ns per loop (mean ± std. dev. of 7 runs, 1,000,000 loops each)\n"
     ]
    }
   ],
   "source": [
    "%timeit unit1.distance_to(position1)"
   ]
  },
  {
   "cell_type": "code",
   "execution_count": 21,
   "id": "e4eea364-e872-4200-a8af-b155e46cee54",
   "metadata": {},
   "outputs": [
    {
     "data": {
      "text/plain": [
       "66.7720001198107"
      ]
     },
     "execution_count": 21,
     "metadata": {},
     "output_type": "execute_result"
    }
   ],
   "source": [
    "position1.distance_to(position2)"
   ]
  },
  {
   "cell_type": "code",
   "execution_count": 22,
   "id": "ed755f14-7385-415b-9eea-7d45d98fa7ee",
   "metadata": {},
   "outputs": [
    {
     "name": "stdout",
     "output_type": "stream",
     "text": [
      "383 ns ± 1.77 ns per loop (mean ± std. dev. of 7 runs, 1,000,000 loops each)\n"
     ]
    }
   ],
   "source": [
    "%timeit position1.distance_to(position2)"
   ]
  },
  {
   "cell_type": "markdown",
   "id": "8f6dac76-590a-46cd-8bcf-6cb8be505276",
   "metadata": {},
   "source": [
    "## Convert `distance_to` to cython"
   ]
  },
  {
   "cell_type": "code",
   "execution_count": 23,
   "id": "e1f147c7-c407-4ecc-ac94-8fb7330c908d",
   "metadata": {},
   "outputs": [],
   "source": [
    "%%cython\n",
    "\n",
    "cpdef double cy_distance_to(\n",
    "        (float, float) p1,\n",
    "        (float, float) p2\n",
    "):\n",
    "    return ((p1[0] - p2[0]) ** 2 + (p1[1] - p2[1]) ** 2) ** 0.5"
   ]
  },
  {
   "cell_type": "code",
   "execution_count": 24,
   "id": "5f3cf30e-fa15-4a55-8a7d-2799afdbcc8d",
   "metadata": {},
   "outputs": [
    {
     "data": {
      "text/plain": [
       "6.090155377590407"
      ]
     },
     "execution_count": 24,
     "metadata": {},
     "output_type": "execute_result"
    }
   ],
   "source": [
    "cy_distance_to(unit1.position, unit2.position)"
   ]
  },
  {
   "cell_type": "code",
   "execution_count": 25,
   "id": "6da6ce8a-4bde-43c4-a9bf-e0857474c2a7",
   "metadata": {},
   "outputs": [
    {
     "name": "stdout",
     "output_type": "stream",
     "text": [
      "200 ns ± 1.11 ns per loop (mean ± std. dev. of 7 runs, 1,000,000 loops each)\n"
     ]
    }
   ],
   "source": [
    "%timeit cy_distance_to(unit1.position, unit2.position)"
   ]
  },
  {
   "cell_type": "code",
   "execution_count": 26,
   "id": "49b5b7d9-a42f-44ae-94a0-663aa902463c",
   "metadata": {},
   "outputs": [
    {
     "data": {
      "text/plain": [
       "75.38846337574635"
      ]
     },
     "execution_count": 26,
     "metadata": {},
     "output_type": "execute_result"
    }
   ],
   "source": [
    "cy_distance_to(unit1.position, position1)"
   ]
  },
  {
   "cell_type": "code",
   "execution_count": 27,
   "id": "e9bb5188-6143-436d-8a8a-3facb46b5d91",
   "metadata": {},
   "outputs": [
    {
     "name": "stdout",
     "output_type": "stream",
     "text": [
      "169 ns ± 0.74 ns per loop (mean ± std. dev. of 7 runs, 10,000,000 loops each)\n"
     ]
    }
   ],
   "source": [
    "%timeit cy_distance_to(unit1.position, position1)"
   ]
  },
  {
   "cell_type": "code",
   "execution_count": 28,
   "id": "272df370-2135-4da4-bef7-b666da31913a",
   "metadata": {},
   "outputs": [
    {
     "data": {
      "text/plain": [
       "66.7720001198107"
      ]
     },
     "execution_count": 28,
     "metadata": {},
     "output_type": "execute_result"
    }
   ],
   "source": [
    "cy_distance_to(position1, position2)"
   ]
  },
  {
   "cell_type": "code",
   "execution_count": 29,
   "id": "df359679-ffbd-4fd5-bbea-3f83e4780201",
   "metadata": {},
   "outputs": [
    {
     "name": "stdout",
     "output_type": "stream",
     "text": [
      "156 ns ± 0.755 ns per loop (mean ± std. dev. of 7 runs, 10,000,000 loops each)\n"
     ]
    }
   ],
   "source": [
    "%timeit cy_distance_to(position1, position2)"
   ]
  },
  {
   "cell_type": "code",
   "execution_count": null,
   "id": "307c39f2-cc0f-49dc-9c9e-562459b110ab",
   "metadata": {},
   "outputs": [],
   "source": []
  },
  {
   "cell_type": "markdown",
   "id": "6c6702bc-163c-4c9b-b4ad-50323d97332b",
   "metadata": {},
   "source": [
    "# Convert `already_pending` for units"
   ]
  },
  {
   "cell_type": "markdown",
   "id": "7969aaaa-12f9-4dc4-ada3-751316050802",
   "metadata": {},
   "source": [
    "This seems like a slow function in profiles, make an alternative for units and structures"
   ]
  },
  {
   "cell_type": "markdown",
   "id": "c6a008e6-13eb-4053-a574-4fba42ea5200",
   "metadata": {},
   "source": [
    "## `python-sc2`'s `already_pending` function:"
   ]
  },
  {
   "cell_type": "code",
   "execution_count": 30,
   "id": "234d4f86-3395-44f4-9192-14435df5e44b",
   "metadata": {},
   "outputs": [],
   "source": [
    "from sc2.ids.unit_typeid import UnitTypeId"
   ]
  },
  {
   "cell_type": "code",
   "execution_count": 31,
   "id": "7e3c9a87-6837-4262-8194-fa9312fc74f4",
   "metadata": {},
   "outputs": [
    {
     "name": "stdout",
     "output_type": "stream",
     "text": [
      "2.61 µs ± 10.8 ns per loop (mean ± std. dev. of 7 runs, 100,000 loops each)\n"
     ]
    }
   ],
   "source": [
    "%timeit bot.already_pending(UnitTypeId.MARINE)"
   ]
  },
  {
   "cell_type": "markdown",
   "id": "ce17fb82-e9b9-4d33-a7b8-07f4daa87f27",
   "metadata": {},
   "source": [
    "## Making a python alternative that's already more than 2x faster"
   ]
  },
  {
   "cell_type": "code",
   "execution_count": 32,
   "id": "a6004be6-4c61-48be-83c6-1964c7b3201d",
   "metadata": {},
   "outputs": [],
   "source": [
    "from sc2.dicts.unit_trained_from import UNIT_TRAINED_FROM\n",
    "from sc2.game_info import Race\n",
    "from ares.dicts.does_not_use_larva import DOES_NOT_USE_LARVA"
   ]
  },
  {
   "cell_type": "code",
   "execution_count": 33,
   "id": "8e3f2c9b-793a-4057-b9f0-caf61e2ed153",
   "metadata": {},
   "outputs": [],
   "source": [
    "def unit_pending(unit_type: UnitTypeId) -> int:\n",
    "    trained_from = UNIT_TRAINED_FROM[unit_type]\n",
    "    if bot.race != Race.Zerg or unit_type == UnitTypeId.QUEEN:\n",
    "        return len(\n",
    "            [\n",
    "                s\n",
    "                for s in bot.structures\n",
    "                if s.orders and s.type_id in trained_from\n",
    "                and s.orders[0].ability.button_name.upper() == UnitTypeId.MARINE.name\n",
    "            ]\n",
    "        )\n",
    "    # check eggs and cocoons for Zerg\n",
    "    else:\n",
    "        if type_id in DOES_NOT_USE_LARVA:\n",
    "            if type_id == UnitTypeId.LURKERMP:\n",
    "                return len(bot.own_units(UnitTypeId.LURKERMPEGG))\n",
    "            elif type_id == UnitTypeId.OVERSEER:\n",
    "                return len(bot.own_units(UnitTypeId.OVERLORDCOCOON))\n",
    "            return len(bot.own_units(UnitTypeId[f\"{type_id.name}COCOON\"]))\n",
    "        else:\n",
    "            return len(\n",
    "                [\n",
    "                    egg\n",
    "                    for egg in self.eggs\n",
    "                    if egg.orders[0].ability.button_name.upper() == type_id.name\n",
    "                ]\n",
    "            )"
   ]
  },
  {
   "cell_type": "code",
   "execution_count": 34,
   "id": "d498b2fd-5271-4ac1-b774-47ab1b7814c0",
   "metadata": {},
   "outputs": [
    {
     "name": "stdout",
     "output_type": "stream",
     "text": [
      "1.18 µs ± 4.4 ns per loop (mean ± std. dev. of 7 runs, 1,000,000 loops each)\n"
     ]
    }
   ],
   "source": [
    "%timeit unit_pending(UnitTypeId.MARINE)"
   ]
  },
  {
   "cell_type": "code",
   "execution_count": 35,
   "id": "fb89df1e-e0c5-454f-b21f-0b584bd29614",
   "metadata": {},
   "outputs": [],
   "source": [
    "%%cython\n",
    "\n",
    "from sc2.ids.unit_typeid import UnitTypeId\n",
    "from sc2.dicts.unit_trained_from import UNIT_TRAINED_FROM\n",
    "from sc2.game_info import Race\n",
    "from ares.dicts.does_not_use_larva import DOES_NOT_USE_LARVA\n",
    "\n",
    "cimport cython\n",
    "\n",
    "cpdef unsigned int cy_unit_pending(object unit_type, object bot):\n",
    "    cdef:\n",
    "        unsigned int num_pending = 0\n",
    "        unsigned int len_units, x\n",
    "        set trained_from = UNIT_TRAINED_FROM[unit_type]\n",
    "        object units_collection, unit\n",
    "\n",
    "    if bot.race == Race.Zerg and unit_type != UnitTypeId.QUEEN:\n",
    "        if unit_type in DOES_NOT_USE_LARVA:\n",
    "            units_collection = bot.own_units\n",
    "            len_units = len(bot.own_units)\n",
    "            trained_from = {UnitTypeId[f\"{unit_type.name}COCOON\"]}\n",
    "            if unit_type == UnitTypeId.LURKERMP:\n",
    "                trained_from = {UnitTypeId.LURKERMPEGG}\n",
    "            elif unit_type == UnitTypeId.OVERSEER:\n",
    "                trained_from = {UnitTypeId.OVERLORDCOCOON}\n",
    "            \n",
    "            for x in range(len_units):\n",
    "                unit = units_collection[x]\n",
    "                if unit.type_id in trained_from:\n",
    "                    num_pending += 1\n",
    "            return num_pending\n",
    "        # unit will be pending in eggs\n",
    "        else:\n",
    "            units_collection = bot.eggs\n",
    "            len_units = len(units_collection)\n",
    "            for x in range(len_units):\n",
    "                egg = units_collection[x]\n",
    "                if egg.orders and egg.orders[0].ability.button_name.upper() == unit_type.name:\n",
    "                    num_pending += 1\n",
    "            return num_pending\n",
    "\n",
    "    # all other units, check the structures they are built from\n",
    "    else:\n",
    "        units_collection = bot.structures\n",
    "        len_units = len(units_collection)\n",
    "        for x in range(len_units):\n",
    "            structure = units_collection[x]\n",
    "            if structure.orders and structure.orders[0].ability.button_name.upper() == unit_type.name:\n",
    "                num_pending += 1\n",
    "        return num_pending"
   ]
  },
  {
   "cell_type": "code",
   "execution_count": 36,
   "id": "a46c1518-6954-468d-a060-694324425832",
   "metadata": {},
   "outputs": [
    {
     "name": "stdout",
     "output_type": "stream",
     "text": [
      "416 ns ± 3.42 ns per loop (mean ± std. dev. of 7 runs, 1,000,000 loops each)\n"
     ]
    }
   ],
   "source": [
    "%timeit cy_unit_pending(UnitTypeId.MARINE, bot)"
   ]
  },
  {
   "cell_type": "markdown",
   "id": "8b0f3a65-f278-4830-94a4-44aaa47b2d1d",
   "metadata": {},
   "source": [
    "## Cython version 6-7 times faster with a warning that this doesn't factor in warp ins"
   ]
  },
  {
   "cell_type": "markdown",
   "id": "04edc294-9a50-4cc5-a3a3-47ea0b980a7e",
   "metadata": {},
   "source": [
    "Something similar may be done for structures, but for this we rely on a building tracker which is not present in this notebook"
   ]
  },
  {
   "cell_type": "code",
   "execution_count": null,
   "id": "435faecd-df32-48e9-ac06-077529b84eac",
   "metadata": {},
   "outputs": [],
   "source": []
  },
  {
   "cell_type": "markdown",
   "id": "2b370a4c-b337-400e-9b38-c6390e059b10",
   "metadata": {},
   "source": [
    "# Alternative to `python-sc2`'s `units.in_attack_range`"
   ]
  },
  {
   "cell_type": "code",
   "execution_count": 37,
   "id": "85e30b99-6f07-4056-8971-a9bc1d02b573",
   "metadata": {},
   "outputs": [],
   "source": [
    "from sc2.units import Units\n",
    "_units = Units([u for u in units if not u.is_mineral_field and not u.is_vespene_geyser and u not in bot.destructables], bot)\n",
    "bigger_units = Units([u for u in units if not u.is_mineral_field and not u.is_vespene_geyser and u not in bot.destructables], bot)\n",
    "bigger_units.extend(_units)\n",
    "bigger_units.extend(_units)"
   ]
  },
  {
   "cell_type": "code",
   "execution_count": 38,
   "id": "e9ed112b-6719-4cca-8ad6-825d98c4c492",
   "metadata": {},
   "outputs": [],
   "source": [
    "unit = _units[-6]"
   ]
  },
  {
   "cell_type": "code",
   "execution_count": 39,
   "id": "76a9da32-6dfb-4374-9c88-d415d4e5a5ed",
   "metadata": {},
   "outputs": [
    {
     "name": "stdout",
     "output_type": "stream",
     "text": [
      "66.5 µs ± 659 ns per loop (mean ± std. dev. of 7 runs, 10,000 loops each)\n"
     ]
    }
   ],
   "source": [
    "%timeit _units.in_attack_range_of(unit)"
   ]
  },
  {
   "cell_type": "code",
   "execution_count": 40,
   "id": "03b1e8f5-3421-4c56-b3bd-f5a0bfb363ef",
   "metadata": {},
   "outputs": [
    {
     "data": {
      "text/plain": [
       "[Unit(name='SCV', tag=4348182529)]"
      ]
     },
     "execution_count": 40,
     "metadata": {},
     "output_type": "execute_result"
    }
   ],
   "source": [
    "_units.in_attack_range_of(unit)"
   ]
  },
  {
   "cell_type": "code",
   "execution_count": 41,
   "id": "7434ff39-5e92-490b-94ce-a11277c1da20",
   "metadata": {},
   "outputs": [
    {
     "name": "stdout",
     "output_type": "stream",
     "text": [
      "195 µs ± 389 ns per loop (mean ± std. dev. of 7 runs, 10,000 loops each)\n"
     ]
    }
   ],
   "source": [
    "%timeit bigger_units.in_attack_range_of(unit)"
   ]
  },
  {
   "cell_type": "code",
   "execution_count": 42,
   "id": "368c1b36-0fe9-4580-9364-20de3856aaac",
   "metadata": {},
   "outputs": [],
   "source": [
    "%%cython\n",
    "\n",
    "import cython\n",
    "from sc2.ids.unit_typeid import UnitTypeId\n",
    "from ares.dicts.unit_data import UNIT_DATA\n",
    "\n",
    "UNIT_DATA_INT_KEYS = {k.value: v for k, v in UNIT_DATA.items()}\n",
    "\n",
    "cdef double cy_distance_to(\n",
    "        (float, float) p1,\n",
    "        (float, float) p2\n",
    "):\n",
    "    return ((p1[0] - p2[0]) ** 2 + (p1[1] - p2[1]) ** 2) ** 0.5\n",
    "\n",
    "@cython.boundscheck(False)\n",
    "@cython.wraparound(False)\n",
    "cpdef list cy_in_attack_range(object unit, object units, double bonus_distance = 0.0):\n",
    "    if not unit.can_attack:\n",
    "        return []\n",
    "\n",
    "    cdef:\n",
    "        unsigned int x, len_units, type_id_int\n",
    "        double dist, air_range, ground_range, radius, other_u_radius\n",
    "        (float, float) unit_pos, other_unit_pos\n",
    "        bint other_unit_flying, can_shoot_air, can_shoot_ground\n",
    "\n",
    "    can_shoot_air = unit.can_attack_air\n",
    "    can_shoot_ground = unit.can_attack_ground\n",
    "    len_units = len(units)\n",
    "    returned_units = []\n",
    "    unit_pos = unit.position\n",
    "    radius = unit.radius\n",
    "    air_range = unit.air_range\n",
    "    ground_range = unit.ground_range\n",
    "\n",
    "    for x in range(len_units):\n",
    "        u = units[x]\n",
    "        type_id_int = unit._proto.unit_type\n",
    "        unit_data = UNIT_DATA_INT_KEYS.get(type_id_int, None)\n",
    "        if unit_data:\n",
    "            other_unit_flying = unit_data[\"flying\"]\n",
    "            other_unit_pos = u.position\n",
    "            other_u_radius = u.radius\n",
    "            dist = cy_distance_to(unit_pos, other_unit_pos)\n",
    "    \n",
    "            if can_shoot_air and (other_unit_flying or type_id_int == 4):\n",
    "                if dist <= air_range + radius + other_u_radius + bonus_distance:\n",
    "                    returned_units.append(u)\n",
    "                    # already added, no need to attempt logic below\n",
    "                    continue\n",
    "    \n",
    "            if can_shoot_ground and not other_unit_flying:\n",
    "                if dist <= ground_range + radius + other_u_radius + bonus_distance:\n",
    "                    returned_units.append(u)\n",
    "\n",
    "    return returned_units         "
   ]
  },
  {
   "cell_type": "code",
   "execution_count": 43,
   "id": "f5823ead-3ead-4fb0-803b-85dd2ad8d39d",
   "metadata": {},
   "outputs": [
    {
     "name": "stdout",
     "output_type": "stream",
     "text": [
      "16.5 µs ± 47.4 ns per loop (mean ± std. dev. of 7 runs, 100,000 loops each)\n"
     ]
    }
   ],
   "source": [
    "%timeit cy_in_attack_range(unit, _units)"
   ]
  },
  {
   "cell_type": "code",
   "execution_count": 44,
   "id": "8fedba87-40d7-4085-8495-8f447651ccd9",
   "metadata": {},
   "outputs": [
    {
     "data": {
      "text/plain": [
       "[Unit(name='SCV', tag=4348182529)]"
      ]
     },
     "execution_count": 44,
     "metadata": {},
     "output_type": "execute_result"
    }
   ],
   "source": [
    "cy_in_attack_range(unit, _units)"
   ]
  },
  {
   "cell_type": "code",
   "execution_count": 45,
   "id": "a6d856e0-c29f-480e-8f44-a2b6fa4e8ca0",
   "metadata": {},
   "outputs": [
    {
     "name": "stdout",
     "output_type": "stream",
     "text": [
      "48.8 µs ± 345 ns per loop (mean ± std. dev. of 7 runs, 10,000 loops each)\n"
     ]
    }
   ],
   "source": [
    "%timeit cy_in_attack_range(unit, bigger_units)"
   ]
  },
  {
   "cell_type": "markdown",
   "id": "80771f0c-b8de-4d81-ad5b-def097b9a5e7",
   "metadata": {},
   "source": [
    "# Calculate if attack is ready"
   ]
  },
  {
   "cell_type": "markdown",
   "id": "917692a4-628a-4022-9b9c-959b632de063",
   "metadata": {},
   "source": [
    "## First python implementation"
   ]
  },
  {
   "cell_type": "code",
   "execution_count": 46,
   "id": "465c2b27-369c-468a-b662-904a05660280",
   "metadata": {},
   "outputs": [],
   "source": [
    "from sc2.ids.unit_typeid import UnitTypeId as UnitID\n",
    "from sc2.unit import Unit\n",
    "from ares.dicts.turn_rate import TURN_RATE\n",
    "import math\n",
    "\n",
    "def angle_to(from_pos: Point2, to_pos: Point2) -> float:\n",
    "    \"\"\"Angle from point to other point in radians\"\"\"\n",
    "    return math.atan2(to_pos.y - from_pos.y, to_pos.x - to_pos.x)\n",
    "\n",
    "def angle_diff(a, b) -> float:\n",
    "    \"\"\"Absolute angle difference between 2 angles\"\"\"\n",
    "    if a < 0:\n",
    "        a += math.pi * 2\n",
    "    if b < 0:\n",
    "        b += math.pi * 2\n",
    "    return math.fabs(a - b)\n",
    "\n",
    "def get_turn_speed(unit) -> float:\n",
    "    \"\"\"Returns turn speed of unit in radians\"\"\"\n",
    "    if unit.type_id in TURN_RATE:\n",
    "        return TURN_RATE[unit.type_id] * 1.4 * math.pi / 180\n",
    "\n",
    "def range_vs_target(unit, target) -> float:\n",
    "    \"\"\"Get the range of a unit to a target.\"\"\"\n",
    "    if unit.can_attack_air and target.is_flying:\n",
    "        return unit.air_range\n",
    "    else:\n",
    "        return unit.ground_range\n",
    "\n",
    "def attack_ready(bot, unit: Unit, target: Unit) -> bool:\n",
    "    \"\"\"\n",
    "    Determine whether the unit can attack the target by the time the unit faces the target.\n",
    "    Thanks Sasha for writing this out.\n",
    "    \"\"\"\n",
    "    # fix for units, where this method returns False so the unit moves\n",
    "    # but the attack animation is still active, so the move command cancels the attack\n",
    "    # need to think of a better fix later, but this is better then a unit not attacking\n",
    "    # and still better then using simple weapon.cooldown == 0 micro\n",
    "    type_id = unit.type_id\n",
    "    if unit.weapon_cooldown > 7 and type_id == UnitID.HYDRALISK:\n",
    "        return True\n",
    "    # prevents crash, since unit can't move\n",
    "    if type_id == UnitID.LURKERMPBURROWED:\n",
    "        return True\n",
    "    if not unit.can_attack:\n",
    "        return False\n",
    "    # Time elapsed per game step\n",
    "    step_time: float = bot.client.game_step / 22.4\n",
    "\n",
    "    # Time it will take for unit to turn to face target\n",
    "    angle: float = angle_diff(\n",
    "        unit.facing, angle_to(unit.position, target.position)\n",
    "    )\n",
    "    turn_time: float = angle / get_turn_speed(unit)\n",
    "\n",
    "    # Time it will take for unit to move in range of target\n",
    "    distance = (\n",
    "        unit.position.distance_to(target)\n",
    "        - unit.radius\n",
    "        - target.radius\n",
    "        - range_vs_target(unit, target)\n",
    "    )\n",
    "    distance = max(0, distance)\n",
    "    move_time = distance / ((unit.real_speed + 1e-16) * 1.4)\n",
    "\n",
    "    return step_time + turn_time + move_time >= unit.weapon_cooldown / 22.4"
   ]
  },
  {
   "cell_type": "code",
   "execution_count": 47,
   "id": "1948ba89-41b9-4645-a28a-eac0a5ca258f",
   "metadata": {},
   "outputs": [],
   "source": [
    "target = cy_in_attack_range(unit, _units)[0]"
   ]
  },
  {
   "cell_type": "code",
   "execution_count": 48,
   "id": "45b5ed5b-d2a7-4d8c-9789-a8064089702f",
   "metadata": {},
   "outputs": [
    {
     "data": {
      "text/plain": [
       "True"
      ]
     },
     "execution_count": 48,
     "metadata": {},
     "output_type": "execute_result"
    }
   ],
   "source": [
    "attack_ready(bot, unit, target)"
   ]
  },
  {
   "cell_type": "code",
   "execution_count": 49,
   "id": "8b250555-37bc-489c-9c5c-c369e1ccd3f0",
   "metadata": {},
   "outputs": [
    {
     "name": "stdout",
     "output_type": "stream",
     "text": [
      "5.33 µs ± 32.3 ns per loop (mean ± std. dev. of 7 runs, 100,000 loops each)\n"
     ]
    }
   ],
   "source": [
    "%timeit attack_ready(bot, unit, target)"
   ]
  },
  {
   "cell_type": "markdown",
   "id": "4c7c11ec-3a35-4c92-a796-22745c2b51a0",
   "metadata": {},
   "source": [
    "### Work out where any bottlenecks are"
   ]
  },
  {
   "cell_type": "code",
   "execution_count": 50,
   "id": "da851d90-3ad0-4ccc-9680-fdc82e42cb53",
   "metadata": {},
   "outputs": [
    {
     "data": {
      "text/plain": [
       "Timer unit: 1e-07 s\n",
       "\n",
       "Total time: 9.14e-05 s\n",
       "File: C:\\Users\\Tom\\AppData\\Local\\Temp\\ipykernel_23956\\1118029139.py\n",
       "Function: attack_ready at line 30\n",
       "\n",
       "Line #      Hits         Time  Per Hit   % Time  Line Contents\n",
       "==============================================================\n",
       "    30                                           def attack_ready(bot, unit: Unit, target: Unit) -> bool:\n",
       "    31                                               \"\"\"\n",
       "    32                                               Determine whether the unit can attack the target by the time the unit faces the target.\n",
       "    33                                               Thanks Sasha for writing this out.\n",
       "    34                                               \"\"\"\n",
       "    35                                               # fix for units, where this method returns False so the unit moves\n",
       "    36                                               # but the attack animation is still active, so the move command cancels the attack\n",
       "    37                                               # need to think of a better fix later, but this is better then a unit not attacking\n",
       "    38                                               # and still better then using simple weapon.cooldown == 0 micro\n",
       "    39         1        195.0    195.0     21.3      type_id = unit.type_id\n",
       "    40         1         78.0     78.0      8.5      if unit.weapon_cooldown > 7 and type_id == UnitID.HYDRALISK:\n",
       "    41                                                   return True\n",
       "    42                                               # prevents crash, since unit can't move\n",
       "    43         1         15.0     15.0      1.6      if type_id == UnitID.LURKERMPBURROWED:\n",
       "    44                                                   return True\n",
       "    45         1          4.0      4.0      0.4      if not unit.can_attack:\n",
       "    46                                                   return False\n",
       "    47                                               # Time elapsed per game step\n",
       "    48         1         44.0     44.0      4.8      step_time: float = bot.client.game_step / 22.4\n",
       "    49                                           \n",
       "    50                                               # Time it will take for unit to turn to face target\n",
       "    51         2         55.0     27.5      6.0      angle: float = angle_diff(\n",
       "    52         1        150.0    150.0     16.4          unit.facing, angle_to(unit.position, target.position)\n",
       "    53                                               )\n",
       "    54         1        169.0    169.0     18.5      turn_time: float = angle / get_turn_speed(unit)\n",
       "    55                                           \n",
       "    56                                               # Time it will take for unit to move in range of target\n",
       "    57         1          3.0      3.0      0.3      distance = (\n",
       "    58         4         67.0     16.8      7.3          unit.position.distance_to(target)\n",
       "    59         1         31.0     31.0      3.4          - unit.radius\n",
       "    60         1         19.0     19.0      2.1          - target.radius\n",
       "    61         1         33.0     33.0      3.6          - range_vs_target(unit, target)\n",
       "    62                                               )\n",
       "    63         1         10.0     10.0      1.1      distance = max(0, distance)\n",
       "    64         1         14.0     14.0      1.5      move_time = distance / ((unit.real_speed + 1e-16) * 1.4)\n",
       "    65                                           \n",
       "    66         1         27.0     27.0      3.0      return step_time + turn_time + move_time >= unit.weapon_cooldown / 22.4"
      ]
     },
     "metadata": {},
     "output_type": "display_data"
    }
   ],
   "source": [
    "%lprun -f attack_ready attack_ready(bot, unit, target)"
   ]
  },
  {
   "cell_type": "code",
   "execution_count": 51,
   "id": "cac83172-2749-4e2c-8c7d-dd30122403d9",
   "metadata": {},
   "outputs": [],
   "source": [
    "%%cython\n",
    "\n",
    "from sc2.ids.unit_typeid import UnitTypeId as UnitID\n",
    "from sc2.unit import Unit\n",
    "from ares.dicts.turn_rate import TURN_RATE\n",
    "from ares.dicts.unit_data import UNIT_DATA\n",
    "UNIT_DATA_INT_KEYS = {k.value: v for k, v in UNIT_DATA.items()}\n",
    "TURN_RATE_INT_KEYS = {k.value: v for k, v in TURN_RATE.items()}\n",
    "import math\n",
    "from libc.math cimport atan2, fabs, pi\n",
    "\n",
    "cdef double cy_distance_to(\n",
    "        (float, float) p1,\n",
    "        (float, float) p2\n",
    "):\n",
    "    return ((p1[0] - p2[0]) ** 2 + (p1[1] - p2[1]) ** 2) ** 0.5\n",
    "\n",
    "cdef double angle_to((float, float) from_pos, (float, float) to_pos):\n",
    "    \"\"\"Angle from point to other point in radians\"\"\"\n",
    "    return atan2(to_pos[1] - from_pos[1], to_pos[0] - to_pos[0])\n",
    "\n",
    "cdef double angle_diff(double a, double b):\n",
    "    \"\"\"Absolute angle difference between 2 angles\"\"\"\n",
    "    if a < 0:\n",
    "        a += pi * 2\n",
    "    if b < 0:\n",
    "        b += pi * 2\n",
    "    return fabs(a - b)\n",
    "\n",
    "cdef double get_turn_speed(unit, unsigned int unit_type_int):\n",
    "    \"\"\"Returns turn speed of unit in radians\"\"\"\n",
    "    cdef double turn_rate\n",
    "\n",
    "    turn_rate = TURN_RATE_INT_KEYS.get(unit_type_int, None)\n",
    "    if turn_rate:\n",
    "        return turn_rate * 1.4 * pi / 180\n",
    "\n",
    "cdef double range_vs_target(unit, target):\n",
    "    \"\"\"Get the range of a unit to a target.\"\"\"\n",
    "    if unit.can_attack_air and target.is_flying:\n",
    "        return unit.air_range\n",
    "    else:\n",
    "        return unit.ground_range\n",
    "\n",
    "cpdef bint cy_attack_ready(bot, unit, target):\n",
    "    \"\"\"\n",
    "    Determine whether the unit can attack the target by the time the unit faces the target.\n",
    "    Thanks Sasha for writing this out.\n",
    "    \"\"\"\n",
    "    cdef:\n",
    "        unsigned int unit_type_int = unit._proto.unit_type\n",
    "        unsigned int weapon_cooldown\n",
    "        double angle, distance, move_time, step_time, turn_time, unit_speed\n",
    "        (float, float) unit_pos\n",
    "        (float, float) target_pos\n",
    "\n",
    "    # fix for units, where this method returns False so the unit moves\n",
    "    # but the attack animation is still active, so the move command cancels the attack\n",
    "    # need to think of a better fix later, but this is better then a unit not attacking\n",
    "    # and still better then using simple weapon.cooldown == 0 micro\n",
    "    weapon_cooldown = unit.weapon_cooldown\n",
    "    if weapon_cooldown > 7 and unit_type_int == 91:  # 91 == UnitID.HYDRALISK\n",
    "        return True\n",
    "    # prevents crash, since unit can't move\n",
    "    if unit_type_int == 91:  # == UnitID.LURKERMPBURROWED\n",
    "        return True\n",
    "    if not unit.can_attack:\n",
    "        return False\n",
    "    # Time elapsed per game step\n",
    "    step_time = bot.client.game_step / 22.4\n",
    "\n",
    "    unit_pos = unit.position\n",
    "    target_pos = target.position\n",
    "    # Time it will take for unit to turn to face target\n",
    "    angle = angle_diff(\n",
    "        unit.facing, angle_to(unit_pos, target_pos)\n",
    "    )\n",
    "    turn_time = angle / get_turn_speed(unit, unit_type_int)\n",
    "\n",
    "    # Time it will take for unit to move in range of target\n",
    "    distance = (\n",
    "        cy_distance_to(unit_pos, target_pos)\n",
    "        - unit.radius\n",
    "        - target.radius\n",
    "        - range_vs_target(unit, target)\n",
    "    )\n",
    "    distance = max(0, distance)\n",
    "    unit_speed = (unit.real_speed + 1e-16) * 1.4\n",
    "    move_time = distance / unit_speed\n",
    "\n",
    "    return step_time + turn_time + move_time >= weapon_cooldown / 22.4"
   ]
  },
  {
   "cell_type": "code",
   "execution_count": 52,
   "id": "bb91ac21-abcd-4cab-b55d-edbb3ca1e29b",
   "metadata": {},
   "outputs": [
    {
     "name": "stdout",
     "output_type": "stream",
     "text": [
      "1.42 µs ± 8.85 ns per loop (mean ± std. dev. of 7 runs, 1,000,000 loops each)\n"
     ]
    }
   ],
   "source": [
    "%timeit cy_attack_ready(bot, unit, target)"
   ]
  },
  {
   "cell_type": "code",
   "execution_count": 53,
   "id": "2e69ab7a-bcd7-4454-9e62-b74d4a451469",
   "metadata": {},
   "outputs": [
    {
     "data": {
      "text/plain": [
       "True"
      ]
     },
     "execution_count": 53,
     "metadata": {},
     "output_type": "execute_result"
    }
   ],
   "source": [
    "cy_attack_ready(bot, unit, target)"
   ]
  },
  {
   "cell_type": "markdown",
   "id": "537e4e14-f593-47f7-9e83-7f47e13a8473",
   "metadata": {},
   "source": [
    "# Pick enemy target"
   ]
  },
  {
   "cell_type": "code",
   "execution_count": 54,
   "id": "0a1f81f4-1bec-4f3c-b01c-79a447ddac9a",
   "metadata": {},
   "outputs": [],
   "source": [
    "def pick_enemy_target(enemies: Units) -> Unit:\n",
    "    \"\"\"For best enemy target from the provided enemies\n",
    "    TODO: If there are multiple units that can be killed, pick the highest value one\n",
    "        Unit parameter to allow for this in the future\n",
    "\n",
    "    For now this returns the lowest health enemy\n",
    "    \"\"\"\n",
    "    return min(\n",
    "        enemies,\n",
    "        key=lambda e: (e.health + e.shield, e.tag),\n",
    "    )"
   ]
  },
  {
   "cell_type": "code",
   "execution_count": 55,
   "id": "700edb96-d97a-4947-820e-b9454f1af7df",
   "metadata": {},
   "outputs": [
    {
     "data": {
      "text/plain": [
       "Unit(name='KarakMale', tag=4316200961)"
      ]
     },
     "execution_count": 55,
     "metadata": {},
     "output_type": "execute_result"
    }
   ],
   "source": [
    "pick_enemy_target(units)"
   ]
  },
  {
   "cell_type": "code",
   "execution_count": 56,
   "id": "667b453e-1a3d-4cf6-8bb9-d07ceda8ef5f",
   "metadata": {},
   "outputs": [
    {
     "name": "stdout",
     "output_type": "stream",
     "text": [
      "150 µs ± 358 ns per loop (mean ± std. dev. of 7 runs, 10,000 loops each)\n"
     ]
    }
   ],
   "source": [
    "%timeit pick_enemy_target(units)"
   ]
  },
  {
   "cell_type": "code",
   "execution_count": 57,
   "id": "93057360-3331-4b31-86d8-318e75b0b986",
   "metadata": {},
   "outputs": [],
   "source": [
    "%%cython\n",
    "\n",
    "cpdef object cy_pick_enemy_target(enemies):\n",
    "    \"\"\"For best enemy target from the provided enemies\n",
    "    TODO: If there are multiple units that can be killed, pick the highest value one\n",
    "        Unit parameter to allow for this in the future\n",
    "\n",
    "    For now this returns the lowest health enemy\n",
    "    \"\"\"\n",
    "    cdef:\n",
    "        object returned_unit\n",
    "        unsigned int num_enemies, x\n",
    "        double lowest_health, total_health\n",
    "    \n",
    "    num_enemies = len(enemies)\n",
    "    returned_unit = enemies[0]\n",
    "    lowest_health = 999.9\n",
    "    for x in range(num_enemies):\n",
    "        unit = enemies[x]\n",
    "        total_health = unit.health + unit.shield\n",
    "        if total_health < lowest_health:\n",
    "            lowest_health = total_health\n",
    "            returned_unit = unit\n",
    "\n",
    "    return unit"
   ]
  },
  {
   "cell_type": "code",
   "execution_count": 58,
   "id": "d99207b2-832b-4018-8188-4d2fc4f7edb4",
   "metadata": {},
   "outputs": [
    {
     "name": "stdout",
     "output_type": "stream",
     "text": [
      "92.7 µs ± 239 ns per loop (mean ± std. dev. of 7 runs, 10,000 loops each)\n"
     ]
    }
   ],
   "source": [
    "%timeit cy_pick_enemy_target(units)"
   ]
  },
  {
   "cell_type": "code",
   "execution_count": 59,
   "id": "4ccdc590-7300-49af-b928-c32f82575c9e",
   "metadata": {},
   "outputs": [
    {
     "data": {
      "text/plain": [
       "Unit(name='MineralField750', tag=4326162433)"
      ]
     },
     "execution_count": 59,
     "metadata": {},
     "output_type": "execute_result"
    }
   ],
   "source": [
    "cy_pick_enemy_target(units)"
   ]
  },
  {
   "cell_type": "markdown",
   "id": "247a71ed-20f4-4c16-ba61-440f2ed890c8",
   "metadata": {},
   "source": [
    "# Converting `units.sorted_by_distance_to`\n"
   ]
  },
  {
   "cell_type": "code",
   "execution_count": 60,
   "id": "5ff685e4-c530-437e-ba74-9c846327cdf4",
   "metadata": {},
   "outputs": [],
   "source": [
    "position = bot.start_location"
   ]
  },
  {
   "cell_type": "code",
   "execution_count": 61,
   "id": "d092dcd0-d1a3-41f5-b721-6b537686f078",
   "metadata": {},
   "outputs": [
    {
     "name": "stdout",
     "output_type": "stream",
     "text": [
      "332 µs ± 2.45 µs per loop (mean ± std. dev. of 7 runs, 1,000 loops each)\n"
     ]
    }
   ],
   "source": [
    "%timeit units.sorted_by_distance_to(position)"
   ]
  },
  {
   "cell_type": "code",
   "execution_count": 62,
   "id": "039037e9-7f90-45c4-8068-b9e0759f4625",
   "metadata": {},
   "outputs": [
    {
     "data": {
      "text/plain": [
       "[Unit(name='CommandCenter', tag=4347396097),\n",
       " Unit(name='SCV', tag=4349231105),\n",
       " Unit(name='SCV', tag=4348968961),\n",
       " Unit(name='SCV', tag=4349755393),\n",
       " Unit(name='SCV', tag=4349493249),\n",
       " Unit(name='SCV', tag=4348706817),\n",
       " Unit(name='SCV', tag=4348444673),\n",
       " Unit(name='SCV', tag=4350279681),\n",
       " Unit(name='SCV', tag=4350017537),\n",
       " Unit(name='SCV', tag=4348182529),\n",
       " Unit(name='SCV', tag=4347920385),\n",
       " Unit(name='SCV', tag=4350541825)]"
      ]
     },
     "execution_count": 62,
     "metadata": {},
     "output_type": "execute_result"
    }
   ],
   "source": [
    "units.sorted_by_distance_to(position)[:12]"
   ]
  },
  {
   "cell_type": "code",
   "execution_count": 63,
   "id": "87b1745b-56ed-48c0-871f-cdb8580dbc36",
   "metadata": {},
   "outputs": [],
   "source": [
    "%%cython\n",
    "\n",
    "import numpy as np\n",
    "cimport numpy as cnp\n",
    "\n",
    "cdef double cy_distance_to_squared(\n",
    "        (float, float) p1,\n",
    "        (float, float) p2\n",
    "):\n",
    "    return ((p1[0] - p2[0]) ** 2 + (p1[1] - p2[1]) ** 2)\n",
    "\n",
    "cpdef object cy_sorted_by_distance_to(object units, (float, float) position, bint reverse=False):\n",
    "    cdef:\n",
    "        unsigned int len_units = len(units)\n",
    "        cnp.ndarray[cnp.npy_double, ndim=1] distances = np.empty(len_units)\n",
    "        # couldn't get this to work\n",
    "        # cnp.ndarray[cnp.npy_double, ndim=1] indices = np.empty(len_units)\n",
    "        unsigned int i, j\n",
    " \n",
    "    for i in range(len_units):\n",
    "        distances[i] = cy_distance_to_squared(units[i].position, position)\n",
    "\n",
    "    indices = distances.argsort()\n",
    "\n",
    "    return [units[j] for j in indices]"
   ]
  },
  {
   "cell_type": "code",
   "execution_count": 64,
   "id": "bfd7beab-7c06-4977-b6ab-9092d640dd1c",
   "metadata": {},
   "outputs": [
    {
     "data": {
      "text/plain": [
       "[Unit(name='CommandCenter', tag=4347396097),\n",
       " Unit(name='SCV', tag=4349231105),\n",
       " Unit(name='SCV', tag=4348968961),\n",
       " Unit(name='SCV', tag=4349755393),\n",
       " Unit(name='SCV', tag=4349493249),\n",
       " Unit(name='SCV', tag=4348706817),\n",
       " Unit(name='SCV', tag=4348444673),\n",
       " Unit(name='SCV', tag=4350279681),\n",
       " Unit(name='SCV', tag=4350017537),\n",
       " Unit(name='SCV', tag=4348182529),\n",
       " Unit(name='SCV', tag=4347920385),\n",
       " Unit(name='SCV', tag=4350541825)]"
      ]
     },
     "execution_count": 64,
     "metadata": {},
     "output_type": "execute_result"
    }
   ],
   "source": [
    "cy_sorted_by_distance_to(units, position)[:12]"
   ]
  },
  {
   "cell_type": "code",
   "execution_count": 65,
   "id": "50e65960-d155-4d62-965b-e6762b9b77af",
   "metadata": {},
   "outputs": [
    {
     "name": "stdout",
     "output_type": "stream",
     "text": [
      "38.1 µs ± 344 ns per loop (mean ± std. dev. of 7 runs, 10,000 loops each)\n"
     ]
    }
   ],
   "source": [
    "%timeit cy_sorted_by_distance_to(units, position)"
   ]
  },
  {
   "cell_type": "markdown",
   "id": "c8729a1b-7c8f-4df4-90db-3f15d9e23bf7",
   "metadata": {},
   "source": [
    "# Convert `unit.is_facing()`"
   ]
  },
  {
   "cell_type": "code",
   "execution_count": 66,
   "id": "73d6e22b-7eca-46d7-a242-ca8a10de942f",
   "metadata": {},
   "outputs": [],
   "source": [
    "my_unit = bot.workers[0]\n",
    "other_unit = bot.townhalls[0]"
   ]
  },
  {
   "cell_type": "code",
   "execution_count": 67,
   "id": "6f794938-68ff-4f52-a15b-583f9221f686",
   "metadata": {},
   "outputs": [
    {
     "name": "stdout",
     "output_type": "stream",
     "text": [
      "3.06 µs ± 14.9 ns per loop (mean ± std. dev. of 7 runs, 100,000 loops each)\n"
     ]
    }
   ],
   "source": [
    "%timeit my_unit.is_facing(other_unit)"
   ]
  },
  {
   "cell_type": "code",
   "execution_count": 68,
   "id": "6ec9a659-5e55-47e4-b0b2-8ad950f76952",
   "metadata": {
    "scrolled": true
   },
   "outputs": [],
   "source": [
    "%%cython\n",
    "\n",
    "from libc.math cimport atan2, fabs, pi\n",
    "\n",
    "\n",
    "\n",
    "import numpy as np\n",
    "\n",
    "\n",
    "\n",
    "cpdef bint cy_is_facing(unit, other_unit, double angle_error=0.05):\n",
    "    cdef:\n",
    "        (double, double) p1 = unit.position\n",
    "        (double, double) p2 = other_unit.position\n",
    "        double angle, angle_difference\n",
    "        double unit_facing = unit.facing\n",
    "\n",
    "    angle = atan2(\n",
    "        p2[1] - p1[1],\n",
    "        p2[0] - p1[0],\n",
    "    )\n",
    "    if angle < 0:\n",
    "        angle += pi * 2\n",
    "    angle_difference = fabs(angle - unit_facing)\n",
    "    return angle_difference < angle_error"
   ]
  },
  {
   "cell_type": "code",
   "execution_count": 69,
   "id": "2f6716e2-9464-404b-9bd5-eb7a8cdcda8d",
   "metadata": {},
   "outputs": [
    {
     "name": "stdout",
     "output_type": "stream",
     "text": [
      "320 ns ± 3.32 ns per loop (mean ± std. dev. of 7 runs, 1,000,000 loops each)\n"
     ]
    }
   ],
   "source": [
    "%timeit cy_is_facing(my_unit, other_unit)"
   ]
  },
  {
   "cell_type": "markdown",
   "id": "7b6e0ac6-59e0-47fd-b573-13b787508207",
   "metadata": {},
   "source": [
    "# Convert `Point2.towards()`"
   ]
  },
  {
   "cell_type": "code",
   "execution_count": 70,
   "id": "bdd5715e-1f91-403a-ae0a-561f340c0c3d",
   "metadata": {},
   "outputs": [],
   "source": [
    "pos = bot.game_info.map_center\n",
    "towards_pos = bot.start_location"
   ]
  },
  {
   "cell_type": "code",
   "execution_count": 71,
   "id": "67fa4682-3fcd-4b39-b85c-7dd628c96699",
   "metadata": {},
   "outputs": [
    {
     "name": "stdout",
     "output_type": "stream",
     "text": [
      "2.79 µs ± 12.5 ns per loop (mean ± std. dev. of 7 runs, 100,000 loops each)\n"
     ]
    }
   ],
   "source": [
    "%timeit pos.towards(towards_pos, 10.0)"
   ]
  },
  {
   "cell_type": "code",
   "execution_count": 72,
   "id": "4144311b-e66b-4c0e-b669-86eaf44e2fec",
   "metadata": {},
   "outputs": [
    {
     "data": {
      "text/plain": [
       "(108.41400663899812, 76.59588191478983)"
      ]
     },
     "execution_count": 72,
     "metadata": {},
     "output_type": "execute_result"
    }
   ],
   "source": [
    "pos.towards(towards_pos, 10.0)"
   ]
  },
  {
   "cell_type": "code",
   "execution_count": 73,
   "id": "ad97a789-32d7-4334-9f44-192b1bdce327",
   "metadata": {},
   "outputs": [
    {
     "data": {
      "text/plain": [
       "(91.58599336100188, 87.40411808521017)"
      ]
     },
     "execution_count": 73,
     "metadata": {},
     "output_type": "execute_result"
    }
   ],
   "source": [
    "pos.towards(towards_pos, -10.0)"
   ]
  },
  {
   "cell_type": "code",
   "execution_count": 74,
   "id": "9c2e1ff8-1b30-4593-8d19-256e6631ab78",
   "metadata": {},
   "outputs": [],
   "source": [
    "%%cython\n",
    "\n",
    "from libc.math cimport sqrt\n",
    "from sc2.position import Point2\n",
    "\n",
    "cpdef (double, double) cy_towards((double, double) start_pos, (double, double) target_pos, double distance):\n",
    "    cdef:\n",
    "        (double, double) vector, displacement, new_pos, normalized_vector\n",
    "        double magnitude \n",
    "\n",
    "    # Calculate the vector between the points\n",
    "    vector = (target_pos[0] - start_pos[0], target_pos[1] - start_pos[1])\n",
    "\n",
    "    # Normalize the vector\n",
    "    magnitude = sqrt(vector[0]**2 + vector[1]**2)\n",
    "    normalized_vector = (vector[0] / magnitude, vector[1] / magnitude)\n",
    "\n",
    "    # Calculate the displacement vector\n",
    "    displacement = (normalized_vector[0] * distance, normalized_vector[1] * distance)\n",
    "\n",
    "    # Calculate the new position\n",
    "    new_pos = (start_pos[0] + displacement[0], start_pos[1] + displacement[1])\n",
    "\n",
    "    return new_pos"
   ]
  },
  {
   "cell_type": "code",
   "execution_count": 75,
   "id": "24cd3f81-3e58-47cd-bb2f-df2ed8688416",
   "metadata": {},
   "outputs": [
    {
     "name": "stdout",
     "output_type": "stream",
     "text": [
      "193 ns ± 0.571 ns per loop (mean ± std. dev. of 7 runs, 10,000,000 loops each)\n"
     ]
    }
   ],
   "source": [
    "%timeit cy_towards(pos, towards_pos, 10.0)"
   ]
  },
  {
   "cell_type": "code",
   "execution_count": 76,
   "id": "74144641-6471-40ec-b04f-39ee29dea2ee",
   "metadata": {},
   "outputs": [
    {
     "data": {
      "text/plain": [
       "(108.41400663899812, 76.59588191478983)"
      ]
     },
     "execution_count": 76,
     "metadata": {},
     "output_type": "execute_result"
    }
   ],
   "source": [
    "cy_towards(pos, towards_pos, 10.0)"
   ]
  },
  {
   "cell_type": "code",
   "execution_count": 77,
   "id": "94d065ad-f04d-4eb4-8389-f3479c4f5a88",
   "metadata": {},
   "outputs": [
    {
     "data": {
      "text/plain": [
       "(91.58599336100188, 87.40411808521017)"
      ]
     },
     "execution_count": 77,
     "metadata": {},
     "output_type": "execute_result"
    }
   ],
   "source": [
    "cy_towards(pos, towards_pos, -10.0)"
   ]
  },
  {
   "cell_type": "code",
   "execution_count": null,
   "id": "5e42b4de-8a45-49cd-a486-cf39da22e0c4",
   "metadata": {},
   "outputs": [],
   "source": []
  }
 ],
 "metadata": {
  "kernelspec": {
   "display_name": "Poetry",
   "language": "python",
   "name": "poetry-kernel"
  },
  "language_info": {
   "codemirror_mode": {
    "name": "ipython",
    "version": 3
   },
   "file_extension": ".py",
   "mimetype": "text/x-python",
   "name": "python",
   "nbconvert_exporter": "python",
   "pygments_lexer": "ipython3",
   "version": "3.11.3"
  }
 },
 "nbformat": 4,
 "nbformat_minor": 5
}
