{
 "cells": [
  {
   "cell_type": "code",
   "execution_count": 2,
   "id": "e5a716a2-bfd6-4ba5-91bb-83d043d4f0f9",
   "metadata": {},
   "outputs": [
    {
     "name": "stderr",
     "output_type": "stream",
     "text": [
      "C:\\Users\\Tom\\AppData\\Local\\pypoetry\\Cache\\virtualenvs\\ares-sc2-S437wHWG-py3.11\\Lib\\site-packages\\tqdm\\auto.py:21: TqdmWarning: IProgress not found. Please update jupyter and ipywidgets. See https://ipywidgets.readthedocs.io/en/stable/user_install.html\n",
      "  from .autonotebook import tqdm as notebook_tqdm\n",
      "2023-06-03 13:20:42.524 | INFO     | MapAnalyzer.MapData:__init__:122 - dev Compiling Berlingrad AIE \u001b[32m\n",
      "\u001b[32m Version dev Map Compilation Progress \u001b[37m: 0.4it [00:00,  1.76it/s]\n"
     ]
    }
   ],
   "source": [
    "# This cell imports stuff, and sets up a bot instance etc\n",
    "\n",
    "import sys\n",
    "import lzma\n",
    "from s2clientprotocol.sc2api_pb2 import Response, ResponseObservation\n",
    "from MapAnalyzer import MapData\n",
    "import pickle\n",
    "import numpy as np\n",
    "import matplotlib.pyplot as plt\n",
    "sys.path.append(\"../src\")\n",
    "sys.path.append(\"../src/ares\")\n",
    "from sc2.position import Point2\n",
    "from sc2.client import Client\n",
    "from sc2.game_data import GameData\n",
    "from sc2.game_info import GameInfo\n",
    "from sc2.game_state import GameState\n",
    "from unittest.mock import patch\n",
    "from ares import AresBot\n",
    "from sc2.bot_ai import BotAI\n",
    "\n",
    "async def build_bot_object_from_pickle_data(raw_game_data, raw_game_info, raw_observation) -> AresBot:\n",
    "    # Build fresh bot object, and load the pickled data into the bot object\n",
    "    bot = BotAI()\n",
    "    game_data = GameData(raw_game_data.data)\n",
    "    game_info = GameInfo(raw_game_info.game_info)\n",
    "    game_state = GameState(raw_observation)\n",
    "    bot._initialize_variables()\n",
    "    client = Client(True)\n",
    "    \n",
    "    bot._prepare_start(client=client, player_id=1, game_info=game_info, game_data=game_data)\n",
    "    with patch.object(Client, \"query_available_abilities_with_tag\", return_value={}):\n",
    "        await bot._prepare_step(state=game_state, proto_game_info=raw_game_info)\n",
    "        bot._prepare_first_step()\n",
    "        # await bot.register_managers()\n",
    "    return bot\n",
    "\n",
    "BERLINGRAD = \"../tests/pickle_data/BerlingradAIE.xz\"\n",
    "with lzma.open(BERLINGRAD, \"rb\") as f:\n",
    "    raw_game_data, raw_game_info, raw_observation = pickle.load(f)\n",
    "\n",
    "# initiate a BotAI and MapAnalyzer instance\n",
    "bot = await build_bot_object_from_pickle_data(raw_game_data, raw_game_info, raw_observation)\n",
    "data = MapData(bot)\n",
    "\n",
    "# common variables\n",
    "grid = data.get_pyastar_grid()\n",
    "position = bot.enemy_start_locations[0]\n",
    "units = bot.all_units\n",
    "\n",
    "%load_ext line_profiler\n",
    "%load_ext Cython"
   ]
  },
  {
   "cell_type": "markdown",
   "id": "002419d1-a1d9-4937-8e9b-6fa47d97250a",
   "metadata": {},
   "source": [
    "# Cythonizing commonly used functions in a python-sc2 bot\n",
    "\n",
    "* [Converting is_position_safe](#Python-version-of-is_position_safe) **6.57x speedup**\n",
    "* [Alternative to python-sc2's units.closest_to](#Alternative-to-python-sc2's-units.closest_to) **6.7x speedup**\n",
    "* [Speeding up `Units.center`](#Speeding-up-Units.center) **2.01x speedup**\n",
    "* [Distance to / `unit.distance_to`](#Distance-to-/-unit.distance_to) **2.47x speedup**"
   ]
  },
  {
   "cell_type": "markdown",
   "id": "b05ffcbc-92a8-4bb2-9f13-ce2c5ecd7796",
   "metadata": {},
   "source": [
    "# Converting `is_position_safe` to cython"
   ]
  },
  {
   "cell_type": "markdown",
   "id": "9fc1c710-be0c-4aa8-8f05-6d9c1e8e0373",
   "metadata": {},
   "source": [
    "## Python version of `is_position_safe`"
   ]
  },
  {
   "cell_type": "code",
   "execution_count": 3,
   "id": "a811bbf3-7a19-4ede-9332-cfe8f301965c",
   "metadata": {},
   "outputs": [],
   "source": [
    "def is_position_safe(\n",
    "    grid: np.ndarray,\n",
    "    position: Point2,\n",
    "    weight_safety_limit: float = 1.0,\n",
    ") -> bool:\n",
    "    weight: float = grid[position.rounded]\n",
    "    # np.inf check if drone is pathing near a spore crawler\n",
    "    return weight == np.inf or weight <= weight_safety_limit"
   ]
  },
  {
   "cell_type": "code",
   "execution_count": 4,
   "id": "078f2253-0351-4fbe-ab21-132c84e6567e",
   "metadata": {},
   "outputs": [
    {
     "name": "stdout",
     "output_type": "stream",
     "text": [
      "4.04 µs ± 23.4 ns per loop (mean ± std. dev. of 7 runs, 100,000 loops each)\n"
     ]
    }
   ],
   "source": [
    "%timeit is_position_safe(grid, position)"
   ]
  },
  {
   "cell_type": "code",
   "execution_count": 5,
   "id": "e8e29398-6514-49a4-bc45-2bf48b4d0d46",
   "metadata": {},
   "outputs": [
    {
     "data": {
      "text/plain": [
       "Timer unit: 1e-07 s\n",
       "\n",
       "Total time: 4.63e-05 s\n",
       "File: C:\\Users\\Tom\\AppData\\Local\\Temp\\ipykernel_14304\\2777119042.py\n",
       "Function: is_position_safe at line 1\n",
       "\n",
       "Line #      Hits         Time  Per Hit   % Time  Line Contents\n",
       "==============================================================\n",
       "     1                                           def is_position_safe(\n",
       "     2                                               grid: np.ndarray,\n",
       "     3                                               position: Point2,\n",
       "     4                                               weight_safety_limit: float = 1.0,\n",
       "     5                                           ) -> bool:\n",
       "     6         1        150.0    150.0     32.4      weight: float = grid[position.rounded]\n",
       "     7                                               # np.inf check if drone is pathing near a spore crawler\n",
       "     8         1        313.0    313.0     67.6      return weight == np.inf or weight <= weight_safety_limit"
      ]
     },
     "metadata": {},
     "output_type": "display_data"
    }
   ],
   "source": [
    "%lprun -f is_position_safe is_position_safe(grid, position)"
   ]
  },
  {
   "cell_type": "markdown",
   "id": "cf584263-83aa-4d3e-8618-bc1b0cb93222",
   "metadata": {},
   "source": [
    "## Cython version of `is_position_safe`"
   ]
  },
  {
   "cell_type": "code",
   "execution_count": 6,
   "id": "8e29b67e-a9db-404e-9a3d-558e50ca92ab",
   "metadata": {},
   "outputs": [],
   "source": [
    "%%cython\n",
    "import numpy as np\n",
    "cimport numpy as cnp\n",
    "from cython cimport boundscheck, wraparound\n",
    "@boundscheck(False)\n",
    "@wraparound(False)\n",
    "cpdef bint is_position_safe(\n",
    "    cnp.ndarray[cnp.npy_float32, ndim=2] grid,\n",
    "    (unsigned int, unsigned int) position,\n",
    "    double weight_safety_limit = 1.0,\n",
    "):\n",
    "    cdef double weight = 0.0\n",
    "    weight = grid[position[0], position[1]]\n",
    "    # np.inf check if drone is pathing near a spore crawler\n",
    "    return weight == np.inf or weight <= weight_safety_limit"
   ]
  },
  {
   "cell_type": "code",
   "execution_count": 7,
   "id": "9493b417-438e-480d-a07e-a1945ebc8a72",
   "metadata": {},
   "outputs": [
    {
     "name": "stdout",
     "output_type": "stream",
     "text": [
      "609 ns ± 2.83 ns per loop (mean ± std. dev. of 7 runs, 1,000,000 loops each)\n"
     ]
    }
   ],
   "source": [
    "%timeit is_position_safe(grid, position.rounded)"
   ]
  },
  {
   "cell_type": "markdown",
   "id": "09627f82-7a06-4cf6-8598-53a4d0d02089",
   "metadata": {},
   "source": [
    "# Alternative to `python-sc2`'s `units.closest_to`"
   ]
  },
  {
   "cell_type": "code",
   "execution_count": 8,
   "id": "22dfffb3-d960-4de3-b91f-ca70404e23d6",
   "metadata": {},
   "outputs": [],
   "source": [
    "units = bot.all_units\n",
    "position = bot.enemy_start_locations[0]\n",
    "unit = units[0]"
   ]
  },
  {
   "cell_type": "code",
   "execution_count": 9,
   "id": "30394917-a822-4240-9d10-59a513dedbeb",
   "metadata": {},
   "outputs": [
    {
     "name": "stdout",
     "output_type": "stream",
     "text": [
      "197 µs ± 812 ns per loop (mean ± std. dev. of 7 runs, 10,000 loops each)\n"
     ]
    }
   ],
   "source": [
    "# slower using closest_to(Point2)\n",
    "%timeit units.closest_to(position)"
   ]
  },
  {
   "cell_type": "code",
   "execution_count": 10,
   "id": "cd0da159-95b9-421c-9a3a-c0b18981f2b0",
   "metadata": {},
   "outputs": [
    {
     "name": "stdout",
     "output_type": "stream",
     "text": [
      "97.2 µs ± 448 ns per loop (mean ± std. dev. of 7 runs, 10,000 loops each)\n"
     ]
    }
   ],
   "source": [
    "# this is faster since distance between all units is cached\n",
    "%timeit units.closest_to(unit)"
   ]
  },
  {
   "cell_type": "code",
   "execution_count": 11,
   "id": "e62eb7cf-ba00-429f-9e4d-32b54e592fc0",
   "metadata": {},
   "outputs": [],
   "source": [
    "%%cython\n",
    "from cython cimport boundscheck, wraparound\n",
    "\n",
    "cdef double euclidean_distance_squared(\n",
    "        (float, float) p1,\n",
    "        (float, float) p2\n",
    "):\n",
    "    return (p1[0] - p2[0]) ** 2 + (p1[1] - p2[1]) ** 2\n",
    "\n",
    "@boundscheck(False)\n",
    "@wraparound(False)\n",
    "cpdef object closest_to((float, float) position, object units):\n",
    "    cdef:\n",
    "        object closest = units[0]\n",
    "        double closest_dist = 999.9\n",
    "        double dist = 0.0\n",
    "        unsigned int len_units = len(units)\n",
    "        (float, float) pos\n",
    "        \n",
    "    for i in range(len_units):\n",
    "        unit = units[i]\n",
    "        pos = unit.position\n",
    "        dist = euclidean_distance_squared((pos[0], pos[1]), (position[0], position[1]))\n",
    "        if dist < closest_dist:\n",
    "            closest_dist = dist\n",
    "            closest = unit\n",
    "            \n",
    "    return closest\n"
   ]
  },
  {
   "cell_type": "code",
   "execution_count": 12,
   "id": "37d3042d-bf7d-44c5-8992-50f97df8e781",
   "metadata": {},
   "outputs": [
    {
     "name": "stdout",
     "output_type": "stream",
     "text": [
      "14.5 µs ± 103 ns per loop (mean ± std. dev. of 7 runs, 100,000 loops each)\n"
     ]
    }
   ],
   "source": [
    "%timeit closest_to(position, units)"
   ]
  },
  {
   "cell_type": "markdown",
   "id": "850be58c-42d2-4c14-824b-dc20d76f7435",
   "metadata": {},
   "source": [
    "# Speeding up `Units.center`"
   ]
  },
  {
   "cell_type": "markdown",
   "id": "70ae0f3e-eed2-42f5-856e-8b93140f33a8",
   "metadata": {},
   "source": [
    "Similar to `units.center` in `python-sc2`, but tweaked to work in this notebook"
   ]
  },
  {
   "cell_type": "code",
   "execution_count": 32,
   "id": "01918ede-b9f9-448a-adda-06ae400ec399",
   "metadata": {},
   "outputs": [],
   "source": [
    "from sc2.position import Point2\n",
    "def center(units) -> Point2:\n",
    "    \"\"\"Returns the central position of all units.\"\"\"\n",
    "    assert units, f\"Units object is empty\"\n",
    "    amount = units.amount\n",
    "    return Point2(\n",
    "        (\n",
    "            sum(unit._proto.pos.x for unit in units) / amount,\n",
    "            sum(unit._proto.pos.y for unit in units) / amount,\n",
    "        )\n",
    "    )"
   ]
  },
  {
   "cell_type": "code",
   "execution_count": 33,
   "id": "324a2d0e-2e0d-4791-b488-0f73b2035865",
   "metadata": {},
   "outputs": [
    {
     "name": "stdout",
     "output_type": "stream",
     "text": [
      "107 µs ± 775 ns per loop (mean ± std. dev. of 7 runs, 10,000 loops each)\n"
     ]
    }
   ],
   "source": [
    "%timeit center(units)"
   ]
  },
  {
   "cell_type": "markdown",
   "id": "4da61abc-7654-44e0-b2d6-6fcf80db7007",
   "metadata": {},
   "source": [
    "## Convert `Units.center` to cython"
   ]
  },
  {
   "cell_type": "code",
   "execution_count": 34,
   "id": "9f75b773-c480-4767-82ac-6a026117aba3",
   "metadata": {},
   "outputs": [],
   "source": [
    "%%cython\n",
    "\n",
    "cimport cython\n",
    "from sc2.position import Point2\n",
    "\n",
    "@cython.boundscheck(False)\n",
    "@cython.wraparound(False)\n",
    "cpdef (double, double) cy_center(object units):\n",
    "    \"\"\"Returns the central position of all units.\"\"\"\n",
    "    cdef:\n",
    "        unsigned int i = 0\n",
    "        unsigned int num_units = len(units)\n",
    "        double sum_x, sum_y = 0.0\n",
    "        (double, double) position\n",
    "        object unit\n",
    "\n",
    "    for i in range(num_units):\n",
    "        pos = units[i]._proto.pos\n",
    "        position = (pos.x, pos.y)\n",
    "        sum_x += position[0]\n",
    "        sum_y += position[1]\n",
    "\n",
    "    return (sum_x / num_units, sum_y / num_units)"
   ]
  },
  {
   "cell_type": "code",
   "execution_count": 36,
   "id": "092e7ada-ca61-4d39-a8a8-83b6908527f0",
   "metadata": {},
   "outputs": [
    {
     "name": "stdout",
     "output_type": "stream",
     "text": [
      "53.2 µs ± 93.1 ns per loop (mean ± std. dev. of 7 runs, 10,000 loops each)\n"
     ]
    }
   ],
   "source": [
    "%timeit Point2(cy_center(units))"
   ]
  },
  {
   "cell_type": "markdown",
   "id": "47028923-1d3f-40eb-aba5-1e87c67a9d51",
   "metadata": {},
   "source": [
    "# Distance to / `unit.distance_to`"
   ]
  },
  {
   "cell_type": "markdown",
   "id": "fab1ee77-9ce9-4119-a617-b7eac3e8f97d",
   "metadata": {},
   "source": [
    "Check and profile distances between 2 units / 1 unit and a Point2 / two Point2's using `python-sc2` implementation of `distance_to`. \n",
    "\n",
    "Then see if cython does it faster"
   ]
  },
  {
   "cell_type": "code",
   "execution_count": 18,
   "id": "e3accea5-8efd-4f60-abaa-efab48d41a76",
   "metadata": {},
   "outputs": [],
   "source": [
    "unit1 = bot.workers[0]\n",
    "unit2 = bot.workers[4]\n",
    "position1 = bot.game_info.map_center\n",
    "position2 = bot.main_base_ramp.top_center"
   ]
  },
  {
   "cell_type": "code",
   "execution_count": 19,
   "id": "5ad995bd-333b-4c88-8756-855b478959a4",
   "metadata": {},
   "outputs": [
    {
     "data": {
      "text/plain": [
       "5.0"
      ]
     },
     "execution_count": 19,
     "metadata": {},
     "output_type": "execute_result"
    }
   ],
   "source": [
    "unit1.distance_to(unit2)"
   ]
  },
  {
   "cell_type": "code",
   "execution_count": 20,
   "id": "79d7255d-e556-4188-b019-3616ccac108b",
   "metadata": {},
   "outputs": [
    {
     "name": "stdout",
     "output_type": "stream",
     "text": [
      "581 ns ± 11.1 ns per loop (mean ± std. dev. of 7 runs, 1,000,000 loops each)\n"
     ]
    }
   ],
   "source": [
    "%timeit unit1.distance_to(unit2)"
   ]
  },
  {
   "cell_type": "code",
   "execution_count": 21,
   "id": "d2b51945-e464-4db4-b670-6c2b3ea97487",
   "metadata": {},
   "outputs": [
    {
     "data": {
      "text/plain": [
       "73.81395532011545"
      ]
     },
     "execution_count": 21,
     "metadata": {},
     "output_type": "execute_result"
    }
   ],
   "source": [
    "unit1.distance_to(position1)"
   ]
  },
  {
   "cell_type": "code",
   "execution_count": 22,
   "id": "8b02671b-ec26-4838-a4ad-895111cc4983",
   "metadata": {},
   "outputs": [
    {
     "name": "stdout",
     "output_type": "stream",
     "text": [
      "988 ns ± 9.49 ns per loop (mean ± std. dev. of 7 runs, 1,000,000 loops each)\n"
     ]
    }
   ],
   "source": [
    "%timeit unit1.distance_to(position1)"
   ]
  },
  {
   "cell_type": "code",
   "execution_count": 23,
   "id": "e4eea364-e872-4200-a8af-b155e46cee54",
   "metadata": {},
   "outputs": [
    {
     "data": {
      "text/plain": [
       "53.766904318548974"
      ]
     },
     "execution_count": 23,
     "metadata": {},
     "output_type": "execute_result"
    }
   ],
   "source": [
    "position1.distance_to(position2)"
   ]
  },
  {
   "cell_type": "code",
   "execution_count": 24,
   "id": "ed755f14-7385-415b-9eea-7d45d98fa7ee",
   "metadata": {},
   "outputs": [
    {
     "name": "stdout",
     "output_type": "stream",
     "text": [
      "381 ns ± 3.13 ns per loop (mean ± std. dev. of 7 runs, 1,000,000 loops each)\n"
     ]
    }
   ],
   "source": [
    "%timeit position1.distance_to(position2)"
   ]
  },
  {
   "cell_type": "markdown",
   "id": "8f6dac76-590a-46cd-8bcf-6cb8be505276",
   "metadata": {},
   "source": [
    "## Convert `distance_to` to cython"
   ]
  },
  {
   "cell_type": "code",
   "execution_count": 25,
   "id": "e1f147c7-c407-4ecc-ac94-8fb7330c908d",
   "metadata": {},
   "outputs": [],
   "source": [
    "%%cython\n",
    "\n",
    "cpdef double cy_distance_to(\n",
    "        (float, float) p1,\n",
    "        (float, float) p2\n",
    "):\n",
    "    return ((p1[0] - p2[0]) ** 2 + (p1[1] - p2[1]) ** 2) ** 0.5"
   ]
  },
  {
   "cell_type": "code",
   "execution_count": 26,
   "id": "5f3cf30e-fa15-4a55-8a7d-2799afdbcc8d",
   "metadata": {},
   "outputs": [
    {
     "data": {
      "text/plain": [
       "5.0"
      ]
     },
     "execution_count": 26,
     "metadata": {},
     "output_type": "execute_result"
    }
   ],
   "source": [
    "cy_distance_to(unit1.position, unit2.position)"
   ]
  },
  {
   "cell_type": "code",
   "execution_count": 27,
   "id": "6da6ce8a-4bde-43c4-a9bf-e0857474c2a7",
   "metadata": {},
   "outputs": [
    {
     "name": "stdout",
     "output_type": "stream",
     "text": [
      "199 ns ± 2.34 ns per loop (mean ± std. dev. of 7 runs, 1,000,000 loops each)\n"
     ]
    }
   ],
   "source": [
    "%timeit cy_distance_to(unit1.position, unit2.position)"
   ]
  },
  {
   "cell_type": "code",
   "execution_count": 28,
   "id": "49b5b7d9-a42f-44ae-94a0-663aa902463c",
   "metadata": {},
   "outputs": [
    {
     "data": {
      "text/plain": [
       "73.81395532011545"
      ]
     },
     "execution_count": 28,
     "metadata": {},
     "output_type": "execute_result"
    }
   ],
   "source": [
    "cy_distance_to(unit1.position, position1)"
   ]
  },
  {
   "cell_type": "code",
   "execution_count": 29,
   "id": "e9bb5188-6143-436d-8a8a-3facb46b5d91",
   "metadata": {},
   "outputs": [
    {
     "name": "stdout",
     "output_type": "stream",
     "text": [
      "175 ns ± 3.51 ns per loop (mean ± std. dev. of 7 runs, 10,000,000 loops each)\n"
     ]
    }
   ],
   "source": [
    "%timeit cy_distance_to(unit1.position, position1)"
   ]
  },
  {
   "cell_type": "code",
   "execution_count": 30,
   "id": "272df370-2135-4da4-bef7-b666da31913a",
   "metadata": {},
   "outputs": [
    {
     "data": {
      "text/plain": [
       "53.766907769498424"
      ]
     },
     "execution_count": 30,
     "metadata": {},
     "output_type": "execute_result"
    }
   ],
   "source": [
    "cy_distance_to(position1, position2)"
   ]
  },
  {
   "cell_type": "code",
   "execution_count": 31,
   "id": "df359679-ffbd-4fd5-bbea-3f83e4780201",
   "metadata": {},
   "outputs": [
    {
     "name": "stdout",
     "output_type": "stream",
     "text": [
      "154 ns ± 0.476 ns per loop (mean ± std. dev. of 7 runs, 10,000,000 loops each)\n"
     ]
    }
   ],
   "source": [
    "%timeit cy_distance_to(position1, position2)"
   ]
  },
  {
   "cell_type": "code",
   "execution_count": null,
   "id": "307c39f2-cc0f-49dc-9c9e-562459b110ab",
   "metadata": {},
   "outputs": [],
   "source": []
  },
  {
   "cell_type": "code",
   "execution_count": null,
   "id": "0630083b-48b6-4df6-ac69-1dd8ce4d39c4",
   "metadata": {},
   "outputs": [],
   "source": []
  },
  {
   "cell_type": "code",
   "execution_count": null,
   "id": "234d4f86-3395-44f4-9192-14435df5e44b",
   "metadata": {},
   "outputs": [],
   "source": []
  }
 ],
 "metadata": {
  "kernelspec": {
   "display_name": "Poetry",
   "language": "python",
   "name": "poetry-kernel"
  },
  "language_info": {
   "codemirror_mode": {
    "name": "ipython",
    "version": 3
   },
   "file_extension": ".py",
   "mimetype": "text/x-python",
   "name": "python",
   "nbconvert_exporter": "python",
   "pygments_lexer": "ipython3",
   "version": "3.11.3"
  }
 },
 "nbformat": 4,
 "nbformat_minor": 5
}
