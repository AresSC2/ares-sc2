{
 "cells": [
  {
   "cell_type": "code",
   "execution_count": 9,
   "id": "3fbeff04-0b4a-46b8-b4bd-43df3d33b0f9",
   "metadata": {},
   "outputs": [
    {
     "name": "stderr",
     "output_type": "stream",
     "text": [
      "2023-06-26 19:37:37.022 | INFO     | MapAnalyzer.MapData:__init__:122 - dev Compiling Berlingrad AIE \u001b[32m\n",
      "\u001b[32m Version dev Map Compilation Progress \u001b[37m: 0.4it [00:00,  1.68it/s]"
     ]
    },
    {
     "name": "stdout",
     "output_type": "stream",
     "text": [
      "The line_profiler extension is already loaded. To reload it, use:\n",
      "  %reload_ext line_profiler\n",
      "The Cython extension is already loaded. To reload it, use:\n",
      "  %reload_ext Cython\n"
     ]
    },
    {
     "name": "stderr",
     "output_type": "stream",
     "text": [
      "\n"
     ]
    }
   ],
   "source": [
    "# This cell imports stuff, and sets up a bot instance etc\n",
    "\n",
    "import sys\n",
    "import lzma\n",
    "from s2clientprotocol.sc2api_pb2 import Response, ResponseObservation\n",
    "from MapAnalyzer.MapData import MapData\n",
    "from MapAnalyzer.constructs import (ChokeArea, MDRamp, RawChoke,\n",
    "                                    VisionBlockerArea)\n",
    "import pickle\n",
    "import numpy as np\n",
    "import matplotlib.pyplot as plt\n",
    "sys.path.append(\"../src\")\n",
    "sys.path.append(\"../src/ares\")\n",
    "from sc2.position import Point2\n",
    "from sc2.client import Client\n",
    "from sc2.game_data import GameData\n",
    "from sc2.game_info import GameInfo\n",
    "from sc2.game_state import GameState\n",
    "from unittest.mock import patch\n",
    "from ares import AresBot\n",
    "from ares.dicts.unit_data import UNIT_DATA\n",
    "from sc2.bot_ai import BotAI\n",
    "from typing import Optional, Union\n",
    "\n",
    "async def build_bot_object_from_pickle_data(raw_game_data, raw_game_info, raw_observation) -> AresBot:\n",
    "    # Build fresh bot object, and load the pickled data into the bot object\n",
    "    bot = BotAI()\n",
    "    game_data = GameData(raw_game_data.data)\n",
    "    game_info = GameInfo(raw_game_info.game_info)\n",
    "    game_state = GameState(raw_observation)\n",
    "    bot._initialize_variables()\n",
    "    client = Client(True)\n",
    "    \n",
    "    bot._prepare_start(client=client, player_id=1, game_info=game_info, game_data=game_data)\n",
    "    with patch.object(Client, \"query_available_abilities_with_tag\", return_value={}):\n",
    "        await bot._prepare_step(state=game_state, proto_game_info=raw_game_info)\n",
    "        bot._prepare_first_step()\n",
    "        # await bot.register_managers()\n",
    "    return bot\n",
    "\n",
    "BERLINGRAD = \"../tests/pickle_data/BerlingradAIE.xz\"\n",
    "with lzma.open(BERLINGRAD, \"rb\") as f:\n",
    "    raw_game_data, raw_game_info, raw_observation = pickle.load(f)\n",
    "\n",
    "# initiate a BotAI and MapAnalyzer instance\n",
    "bot = await build_bot_object_from_pickle_data(raw_game_data, raw_game_info, raw_observation)\n",
    "data = MapData(bot)\n",
    "\n",
    "# common variables\n",
    "grid = data.get_pyastar_grid()\n",
    "position = bot.enemy_start_locations[0]\n",
    "units = bot.all_units\n",
    "\n",
    "%load_ext line_profiler\n",
    "%load_ext Cython"
   ]
  },
  {
   "cell_type": "code",
   "execution_count": 25,
   "id": "3d7154ca-d6a2-483c-a977-e24480b05e6f",
   "metadata": {},
   "outputs": [],
   "source": [
    "target = bot.game_info.map_center\n",
    "chokes = [\n",
    "    ch\n",
    "    for ch in data.in_region_p(target).region_chokes\n",
    "    if type(ch) != VisionBlockerArea\n",
    "]\n",
    "raw_choke = chokes[-1]\n",
    "assert type(raw_choke) == RawChoke"
   ]
  },
  {
   "cell_type": "code",
   "execution_count": 31,
   "id": "08fc17da-e8cd-4150-bcd0-91bb012e3d17",
   "metadata": {},
   "outputs": [
    {
     "data": {
      "text/plain": [
       "(92, 67)"
      ]
     },
     "execution_count": 31,
     "metadata": {},
     "output_type": "execute_result"
    }
   ],
   "source": [
    "raw_choke.side_a"
   ]
  },
  {
   "cell_type": "markdown",
   "id": "9690a3b7-35dd-48f6-b897-6064a67ea68c",
   "metadata": {},
   "source": [
    "# Finding siege points"
   ]
  },
  {
   "cell_type": "markdown",
   "id": "8fcbc5ff-0337-49e8-819f-1792ed5b11e9",
   "metadata": {},
   "source": [
    "## Get line between points\n",
    "\n",
    "We need this function in the final find siege function"
   ]
  },
  {
   "cell_type": "markdown",
   "id": "31c3262e-26b7-4c44-bf06-1f9bb2d078f5",
   "metadata": {},
   "source": [
    "### python"
   ]
  },
  {
   "cell_type": "code",
   "execution_count": 10,
   "id": "4bf30229-a179-4a93-8189-525764c99f2a",
   "metadata": {},
   "outputs": [],
   "source": [
    "def get_line_between_points(pa, pb) -> list[float]:\n",
    "    \"\"\"\n",
    "    Given points a and b, return the line in the form Ax + By = C.\n",
    "    Returns [A, B, C]\n",
    "    \"\"\"\n",
    "    x1, y1 = pa\n",
    "    x2, y2 = pb\n",
    "    if x1 == x2:\n",
    "        return [1, 0, x1]\n",
    "    else:\n",
    "        slope = (y2 - y1) / (x2 - x1)\n",
    "        return [-slope, 1, y1 - (slope * x1)]"
   ]
  },
  {
   "cell_type": "code",
   "execution_count": 28,
   "id": "3f08d92a-cf06-4d34-b8d0-8f0adfab22cd",
   "metadata": {},
   "outputs": [
    {
     "name": "stdout",
     "output_type": "stream",
     "text": [
      "390 ns ± 1.15 ns per loop (mean ± std. dev. of 7 runs, 1,000,000 loops each)\n"
     ]
    }
   ],
   "source": [
    "%timeit choke_a, choke_b, choke_c = get_line_between_points(raw_choke.side_a, raw_choke.side_b)"
   ]
  },
  {
   "cell_type": "markdown",
   "id": "2e4abce4-ab0d-4ad0-b2b8-aaed7afe49c7",
   "metadata": {},
   "source": [
    "### cython"
   ]
  },
  {
   "cell_type": "code",
   "execution_count": 37,
   "id": "929f30c3-3305-40a1-8d46-43a31921a3d0",
   "metadata": {},
   "outputs": [],
   "source": [
    "%%cython\n",
    "\n",
    "cpdef list cy_get_line_between_points((unsigned int, unsigned int) pa, (unsigned int, unsigned int) pb):\n",
    "    \"\"\"\n",
    "    Given points a and b, return the line in the form Ax + By = C.\n",
    "    Returns [A, B, C]\n",
    "    \"\"\"\n",
    "    cdef:\n",
    "        unsigned int x1, y1, x2, y2\n",
    "        double slope\n",
    "\n",
    "    x1, y1 = pa\n",
    "    x2, y2 = pb\n",
    "    if x1 == x2:\n",
    "        return [1, 0, x1]\n",
    "    else:\n",
    "        slope = (y2 - y1) / (x2 - x1)\n",
    "        return [-slope, 1, y1 - (slope * x1)]"
   ]
  },
  {
   "cell_type": "code",
   "execution_count": 38,
   "id": "a0f1c568-a9ef-4d4d-970f-446b2f5a7bd0",
   "metadata": {},
   "outputs": [
    {
     "name": "stdout",
     "output_type": "stream",
     "text": [
      "134 ns ± 0.0732 ns per loop (mean ± std. dev. of 7 runs, 10,000,000 loops each)\n"
     ]
    }
   ],
   "source": [
    "%timeit choke_a, choke_b, choke_c = cy_get_line_between_points(raw_choke.side_a, raw_choke.side_b)"
   ]
  },
  {
   "cell_type": "code",
   "execution_count": null,
   "id": "0ed1f2bb-3af3-4a9d-ad4c-8f8d673ca6be",
   "metadata": {},
   "outputs": [],
   "source": []
  },
  {
   "cell_type": "code",
   "execution_count": 18,
   "id": "d61aa87d-9245-460f-ab26-f0d12f12eacc",
   "metadata": {},
   "outputs": [],
   "source": [
    "def get_siege_chokes(\n",
    "    target: Point2,\n",
    "    chokes: Optional[\n",
    "        tuple[Union[ChokeArea, MDRamp, RawChoke, VisionBlockerArea]]\n",
    "    ] = None,\n",
    "    max_distance: int = 30,\n",
    "    min_setup_area: int = 0,\n",
    ") -> tuple[\n",
    "    dict[Point2, Union[MDRamp, RawChoke, VisionBlockerArea]],\n",
    "    dict[Point2, Union[MDRamp, RawChoke, VisionBlockerArea]],\n",
    "]:\n",
    "    \"\"\"\n",
    "    Find the chokes for sieging a position. Criteria are:\n",
    "        - The side of the choke closest to the position must not be higher ground\n",
    "        - There must be at least min_setup_area points on our side of the choke\n",
    "        TODO: add more stuff\n",
    "    @param target: the point to siege\n",
    "    @param chokes: a list of chokes we want to check, if we know them\n",
    "    @param max_distance: how far away from the point the near side of the choke is allowed to be\n",
    "    @param min_setup_area: minimum number of valid points on the near side of the choke\n",
    "    @return: A dictionary with the side we want to go to as the key and the ChokeArea as the value\n",
    "    \"\"\"\n",
    "    raw_pathfind = self.manager_mediator.find_raw_path\n",
    "    grid = self.manager_mediator.get_cached_ground_grid\n",
    "    # if we're not given chokes (such as the point isn't a base that we calculated earlier), find them\n",
    "    if not chokes:\n",
    "        chokes = [\n",
    "            ch\n",
    "            for ch in self.map_data.in_region_p(target).region_chokes\n",
    "            if type(ch) != VisionBlockerArea\n",
    "        ]\n",
    "    chokes_points: List[Set[Point2]] = [ch.points for ch in chokes]\n",
    "    # go through the chokes and check heights of both sides so we can see if we'll have the high ground\n",
    "    high_or_even_ground_chokes: Dict[\n",
    "        Point2, Union[MDRamp, RawChoke, VisionBlockerArea]\n",
    "    ] = {}\n",
    "    low_ground_or_small_chokes: Dict[\n",
    "        Point2, Union[MDRamp, RawChoke, VisionBlockerArea]\n",
    "    ] = {}\n",
    "    for ch in chokes:\n",
    "        if type(ch) == RawChoke:\n",
    "            # get the line between sides of the choke\n",
    "            choke_a, choke_b, choke_c = get_line_between_points(\n",
    "                ch.side_a, ch.side_b\n",
    "            )\n",
    "            # the A value of the line bisecting Ax + By = C  is -B/A\n",
    "            if choke_a == 0:\n",
    "                # horizontal line, the value is 1 (can't divide by 0)\n",
    "                bisect_a = 1\n",
    "            else:\n",
    "                bisect_a = -choke_b / choke_a\n",
    "            # get the intersection of the two lines (the intersection is the midpoint of the choke line)\n",
    "            if choke_a == 0:\n",
    "                # the choke makes a horizontal line, so we want the average of the x values\n",
    "                intersect_x = (ch.side_b.x + ch.side_a.x) / 2\n",
    "                intersect_y = ch.side_a.y\n",
    "            elif choke_b == 0:\n",
    "                # the choke makes a vertical line, so we want the average of the y values\n",
    "                intersect_x = ch.side_a.x\n",
    "                intersect_y = (ch.side_b.y + ch.side_a.y) / 2\n",
    "            else:\n",
    "                # the line is neither horizontal nor vertical, use the x midpoint to find y\n",
    "                intersect_x = (ch.side_b.x + ch.side_a.x) / 2\n",
    "                intersect_y = choke_c - choke_a * intersect_x\n",
    "            # find a point on either side of the choke line to check heights for\n",
    "            raw_a = translate_point_along_line(\n",
    "                (intersect_x, intersect_y), bisect_a, 4\n",
    "            )\n",
    "            raw_b = translate_point_along_line(\n",
    "                (intersect_x, intersect_y), bisect_a, -4\n",
    "            )\n",
    "            point_a = Point2(raw_a).rounded\n",
    "            point_b = Point2(raw_b).rounded\n",
    "        elif type(ch) == MDRamp:\n",
    "            point_a = ch.top_center.towards(ch.bottom_center, -2).rounded\n",
    "            point_b = ch.bottom_center.towards(ch.top_center, -2).rounded\n",
    "        else:\n",
    "            continue\n",
    "        # get the heights on either side of the choke\n",
    "        height_a = self.ai.get_terrain_height(point_a)\n",
    "        height_b = self.ai.get_terrain_height(point_b)\n",
    "\n",
    "        # find the pathing distances or skip this choke since something's wrong\n",
    "        # also skip if either side goes through more than one choke\n",
    "        # noinspection PyProtectedMember\n",
    "        path_a = raw_pathfind(\n",
    "            start=point_a,\n",
    "            target=target,\n",
    "            grid=grid,\n",
    "            sensitivity=1,\n",
    "        )\n",
    "        if path_a:\n",
    "            if number_of_chokes_pathed_through(path_a, chokes_points) > 1:\n",
    "                continue\n",
    "            dist_a = len(path_a)\n",
    "        else:\n",
    "            continue\n",
    "        # noinspection PyProtectedMember\n",
    "        path_b = raw_pathfind(\n",
    "            start=point_b,\n",
    "            target=target,\n",
    "            grid=grid,\n",
    "            sensitivity=1,\n",
    "        )\n",
    "        if path_b:\n",
    "            if number_of_chokes_pathed_through(path_b, chokes_points) > 1:\n",
    "                continue\n",
    "            dist_b = len(path_b)\n",
    "        else:\n",
    "            continue\n",
    "\n",
    "        \"\"\"\n",
    "        Siege points should be:\n",
    "            - the same height or higher than the target\n",
    "            - within the maximum distance\n",
    "            - within a large enough area\n",
    "            - only path through one choke to get to the target\n",
    "        \"\"\"\n",
    "        if height_a < height_b:\n",
    "            # side_a is lower\n",
    "            if dist_a < dist_b and dist_a < max_distance:\n",
    "                if self.get_flood_fill_area(point_b)[0] >= min_setup_area:\n",
    "                    high_or_even_ground_chokes[point_b] = ch\n",
    "            else:\n",
    "                low_ground_or_small_chokes[point_b] = ch\n",
    "        elif height_b < height_a:\n",
    "            # side_b is lower\n",
    "            if dist_b < dist_a and dist_b < max_distance:\n",
    "                if self.get_flood_fill_area(point_a)[0] >= min_setup_area:\n",
    "                    high_or_even_ground_chokes[point_a] = ch\n",
    "            else:\n",
    "                low_ground_or_small_chokes[point_a] = ch\n",
    "        else:\n",
    "            # the chokes are of equal height, give the side further from the target if it's large enough\n",
    "            # if they're somehow the same height and same distance away, skip for now\n",
    "            # TODO: find some way to handle this if we want- it shouldn't happen much though\n",
    "            if dist_a < dist_b and dist_a < max_distance:\n",
    "                if self.get_flood_fill_area(point_b)[0] >= min_setup_area:\n",
    "                    high_or_even_ground_chokes[point_b] = ch\n",
    "                else:\n",
    "                    low_ground_or_small_chokes[point_b] = ch\n",
    "            elif dist_b < dist_a and dist_b < max_distance:\n",
    "                if self.get_flood_fill_area(point_a)[0] >= min_setup_area:\n",
    "                    high_or_even_ground_chokes[point_a] = ch\n",
    "                else:\n",
    "                    low_ground_or_small_chokes[point_a] = ch\n",
    "    return high_or_even_ground_chokes, low_ground_or_small_chokes"
   ]
  },
  {
   "cell_type": "code",
   "execution_count": 17,
   "id": "98faa705-fdb6-4e39-b90f-92138abbedbc",
   "metadata": {},
   "outputs": [
    {
     "ename": "NameError",
     "evalue": "name 'self' is not defined",
     "output_type": "error",
     "traceback": [
      "\u001b[1;31m---------------------------------------------------------------------------\u001b[0m",
      "\u001b[1;31mNameError\u001b[0m                                 Traceback (most recent call last)",
      "Cell \u001b[1;32mIn[17], line 1\u001b[0m\n\u001b[1;32m----> 1\u001b[0m \u001b[43mget_siege_chokes\u001b[49m\u001b[43m(\u001b[49m\u001b[43mbot\u001b[49m\u001b[38;5;241;43m.\u001b[39;49m\u001b[43mgame_info\u001b[49m\u001b[38;5;241;43m.\u001b[39;49m\u001b[43mmap_center\u001b[49m\u001b[43m)\u001b[49m\n",
      "Cell \u001b[1;32mIn[16], line 23\u001b[0m, in \u001b[0;36mget_siege_chokes\u001b[1;34m(target, chokes, max_distance, min_setup_area)\u001b[0m\n\u001b[0;32m      1\u001b[0m \u001b[38;5;28;01mdef\u001b[39;00m \u001b[38;5;21mget_siege_chokes\u001b[39m(\n\u001b[0;32m      2\u001b[0m     target: Point2,\n\u001b[0;32m      3\u001b[0m     chokes: Optional[\n\u001b[1;32m   (...)\u001b[0m\n\u001b[0;32m     10\u001b[0m     \u001b[38;5;28mdict\u001b[39m[Point2, Union[MDRamp, RawChoke, VisionBlockerArea]],\n\u001b[0;32m     11\u001b[0m ]:\n\u001b[0;32m     12\u001b[0m \u001b[38;5;250m    \u001b[39m\u001b[38;5;124;03m\"\"\"\u001b[39;00m\n\u001b[0;32m     13\u001b[0m \u001b[38;5;124;03m    Find the chokes for sieging a position. Criteria are:\u001b[39;00m\n\u001b[0;32m     14\u001b[0m \u001b[38;5;124;03m        - The side of the choke closest to the position must not be higher ground\u001b[39;00m\n\u001b[1;32m   (...)\u001b[0m\n\u001b[0;32m     21\u001b[0m \u001b[38;5;124;03m    @return: A dictionary with the side we want to go to as the key and the ChokeArea as the value\u001b[39;00m\n\u001b[0;32m     22\u001b[0m \u001b[38;5;124;03m    \"\"\"\u001b[39;00m\n\u001b[1;32m---> 23\u001b[0m     raw_pathfind \u001b[38;5;241m=\u001b[39m \u001b[38;5;28;43mself\u001b[39;49m\u001b[38;5;241m.\u001b[39mmanager_mediator\u001b[38;5;241m.\u001b[39mfind_raw_path\n\u001b[0;32m     24\u001b[0m     grid \u001b[38;5;241m=\u001b[39m \u001b[38;5;28mself\u001b[39m\u001b[38;5;241m.\u001b[39mmanager_mediator\u001b[38;5;241m.\u001b[39mget_cached_ground_grid\n\u001b[0;32m     25\u001b[0m     \u001b[38;5;66;03m# if we're not given chokes (such as the point isn't a base that we calculated earlier), find them\u001b[39;00m\n",
      "\u001b[1;31mNameError\u001b[0m: name 'self' is not defined"
     ]
    }
   ],
   "source": [
    "get_siege_chokes(bot.game_info.map_center)"
   ]
  },
  {
   "cell_type": "code",
   "execution_count": null,
   "id": "c28e2a8d-1028-4e3d-9496-88511bb0163b",
   "metadata": {},
   "outputs": [],
   "source": []
  }
 ],
 "metadata": {
  "kernelspec": {
   "display_name": "Poetry",
   "language": "python",
   "name": "poetry-kernel"
  },
  "language_info": {
   "codemirror_mode": {
    "name": "ipython",
    "version": 3
   },
   "file_extension": ".py",
   "mimetype": "text/x-python",
   "name": "python",
   "nbconvert_exporter": "python",
   "pygments_lexer": "ipython3",
   "version": "3.11.3"
  }
 },
 "nbformat": 4,
 "nbformat_minor": 5
}
