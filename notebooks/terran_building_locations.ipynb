{
 "cells": [
  {
   "cell_type": "markdown",
   "id": "ecf29ab2-cf1f-4736-8b02-71958a9b83d3",
   "metadata": {},
   "source": [
    "# Terran building formation solver using cython, featuring flood fill and convolution algorithms."
   ]
  },
  {
   "cell_type": "markdown",
   "id": "3432b3c6-de37-4066-b9a1-725cd2144398",
   "metadata": {},
   "source": [
    "#### See `placement_manager._solve_terran_building_formation()` for full building formation logic."
   ]
  },
  {
   "cell_type": "code",
   "execution_count": 1,
   "id": "176c43e5-0956-48a9-8522-a5dd6884c631",
   "metadata": {},
   "outputs": [
    {
     "name": "stderr",
     "output_type": "stream",
     "text": [
      "C:\\Users\\Tom\\AppData\\Local\\pypoetry\\Cache\\virtualenvs\\ares-sc2-S437wHWG-py3.9\\lib\\site-packages\\tqdm\\auto.py:21: TqdmWarning: IProgress not found. Please update jupyter and ipywidgets. See https://ipywidgets.readthedocs.io/en/stable/user_install.html\n",
      "  from .autonotebook import tqdm as notebook_tqdm\n"
     ]
    }
   ],
   "source": [
    "import sys\n",
    "import lzma\n",
    "from s2clientprotocol.sc2api_pb2 import Response, ResponseObservation\n",
    "from MapAnalyzer.utils import import_bot_instance\n",
    "from MapAnalyzer import MapData\n",
    "import pickle\n",
    "import numpy as np\n",
    "import matplotlib.pyplot as plt\n",
    "sys.path.append(\"../src\")\n",
    "sys.path.append(\"../src/ares\")\n",
    "from sc2.position import Point2\n",
    "%load_ext line_profiler\n",
    "%load_ext Cython"
   ]
  },
  {
   "cell_type": "code",
   "execution_count": 2,
   "id": "1dfa943c-b9f9-4cb9-aa76-3d759602f0df",
   "metadata": {},
   "outputs": [],
   "source": [
    "BERLINGRAD = \"../tests/pickle_data/BerlingradAIE.xz\""
   ]
  },
  {
   "cell_type": "code",
   "execution_count": 3,
   "id": "4e56754a-9845-4ae2-ad9a-043a728035bb",
   "metadata": {},
   "outputs": [
    {
     "name": "stderr",
     "output_type": "stream",
     "text": [
      "2023-05-13 19:26:31.626 | INFO     | MapAnalyzer.MapData:__init__:122 - dev Compiling Berlingrad AIE \u001b[32m\n",
      "\u001b[32m Version dev Map Compilation Progress \u001b[37m: 0.4it [00:00,  1.58it/s]\n"
     ]
    }
   ],
   "source": [
    "with lzma.open(BERLINGRAD, \"rb\") as f:\n",
    "    raw_game_data, raw_game_info, raw_observation = pickle.load(f)\n",
    "bot = import_bot_instance(raw_game_data, raw_game_info, raw_observation)\n",
    "data = MapData(bot)"
   ]
  },
  {
   "cell_type": "markdown",
   "id": "afb91306-f5f6-46dc-8b6c-0b21154e6b25",
   "metadata": {},
   "source": [
    "# FLOOD FILL"
   ]
  },
  {
   "cell_type": "markdown",
   "id": "8d29a1ea-ead2-47bb-b2c0-8e992326f03e",
   "metadata": {},
   "source": [
    "Alternative - `%%cython --annotate`"
   ]
  },
  {
   "cell_type": "code",
   "execution_count": 4,
   "id": "0b0b03e6-b04b-4198-97f2-3e9fc2ab1be7",
   "metadata": {},
   "outputs": [],
   "source": [
    "start_point=bot.enemy_start_locations[0].rounded\n",
    "terrain_grid=bot.game_info.terrain_height.data_numpy.T\n",
    "pathing_grid=data.get_pyastar_grid().astype(np.uint8)\n",
    "max_distance=20\n",
    "choke_points=set([point for ch in data.map_chokes for point in ch.points])"
   ]
  },
  {
   "cell_type": "code",
   "execution_count": 7,
   "id": "3081927f-3d05-4363-ab34-461267d17ddf",
   "metadata": {},
   "outputs": [],
   "source": [
    "%%cython\n",
    "from cython cimport boundscheck, wraparound\n",
    "\n",
    "cdef unsigned int euclidean_distance_squared_int((unsigned int, unsigned int) p1, (unsigned int, unsigned int) p2):\n",
    "    return (p1[0] - p2[0]) ** 2 + (p1[1] - p2[1]) ** 2\n",
    "\n",
    "cpdef set flood_fill(\n",
    "    (unsigned int, unsigned int) start_point, \n",
    "    const unsigned char[:, :] terrain_grid, \n",
    "    const unsigned char[:, :] pathing_grid, \n",
    "    unsigned int max_distance, \n",
    "    set choke_points\n",
    "):\n",
    "    cdef:\n",
    "        unsigned int terrain_height = terrain_grid[start_point[0], start_point[1]]\n",
    "        unsigned int pathing_value = pathing_grid[start_point[0], start_point[1]]\n",
    "        set filled_points = set()\n",
    "\n",
    "    # Only continue if we can get a height for the starting point\n",
    "    if not terrain_height:\n",
    "        return filled_points\n",
    "    \n",
    "    if pathing_value != 1:\n",
    "        return filled_points\n",
    "        \n",
    "    grid_flood_fill(start_point, terrain_grid, pathing_grid, terrain_height, filled_points, start_point, max_distance, choke_points)\n",
    "    return filled_points\n",
    "\n",
    "cdef set grid_flood_fill(\n",
    "    (unsigned int, unsigned int) point, \n",
    "    const unsigned char[:, :] terrain_grid, \n",
    "    const unsigned char[:, :] pathing_grid, \n",
    "    unsigned int target_val, \n",
    "    set current_vec, \n",
    "    (unsigned int, unsigned int) start_point, \n",
    "    unsigned int max_distance, \n",
    "    set choke_points):\n",
    "    cdef:\n",
    "        unsigned int terrain_height = terrain_grid[start_point[0], start_point[1]]\n",
    "        unsigned int pathing_value = pathing_grid[start_point[0], start_point[1]]\n",
    "    # Check that we haven't already added this point.\n",
    "    if point in current_vec:\n",
    "        return current_vec\n",
    "\n",
    "    # Check that this point isn't too far away from the start\n",
    "    if euclidean_distance_squared_int(point, start_point) > max_distance ** 2:\n",
    "        return current_vec\n",
    "\n",
    "    if point in choke_points:\n",
    "        return current_vec\n",
    "\n",
    "    terrain_height = terrain_grid[point[0], point[1]]\n",
    "    pathing_value = pathing_grid[point[0], point[1]]\n",
    "    if terrain_height != target_val or pathing_value != 1:\n",
    "        return current_vec\n",
    "    \n",
    "    current_vec.add(point)\n",
    "    grid_flood_fill((point[0]+1, point[1]), terrain_grid, pathing_grid, terrain_height, current_vec, start_point, max_distance, choke_points)\n",
    "    grid_flood_fill((point[0]-1, point[1]), terrain_grid, pathing_grid, terrain_height, current_vec, start_point, max_distance, choke_points)\n",
    "    grid_flood_fill((point[0], point[1]+1), terrain_grid, pathing_grid, terrain_height, current_vec, start_point, max_distance, choke_points)\n",
    "    grid_flood_fill((point[0], point[1]-1), terrain_grid, pathing_grid, terrain_height, current_vec, start_point, max_distance, choke_points)"
   ]
  },
  {
   "cell_type": "code",
   "execution_count": 8,
   "id": "88165f9c-4cb3-4291-8a1a-20bed3872e6c",
   "metadata": {},
   "outputs": [
    {
     "name": "stdout",
     "output_type": "stream",
     "text": [
      "314 µs ± 9.62 µs per loop (mean ± std. dev. of 1000 runs, 5 loops each)\n"
     ]
    }
   ],
   "source": [
    "%timeit -r 1000 -n 5 flood_fill(start_point, terrain_grid, pathing_grid, max_distance, choke_points)"
   ]
  },
  {
   "cell_type": "code",
   "execution_count": 9,
   "id": "d9687e26-facb-4847-8662-d97178ee3173",
   "metadata": {},
   "outputs": [
    {
     "name": "stdout",
     "output_type": "stream",
     "text": [
      " "
     ]
    },
    {
     "data": {
      "text/plain": [
       "         60 function calls in 0.001 seconds\n",
       "\n",
       "   Ordered by: cumulative time\n",
       "\n",
       "   ncalls  tottime  percall  cumtime  percall filename:lineno(function)\n",
       "        1    0.000    0.000    0.001    0.001 {built-in method builtins.exec}\n",
       "        1    0.000    0.000    0.001    0.001 <string>:1(<module>)\n",
       "        1    0.001    0.001    0.001    0.001 {built-in method _cython_magic_555d3061e85bd04edd4ce018b1179997.flood_fill}\n",
       "        8    0.000    0.000    0.000    0.000 position.py:136(__eq__)\n",
       "        8    0.000    0.000    0.000    0.000 {built-in method builtins.all}\n",
       "       24    0.000    0.000    0.000    0.000 position.py:138(<genexpr>)\n",
       "       16    0.000    0.000    0.000    0.000 {built-in method builtins.abs}\n",
       "        1    0.000    0.000    0.000    0.000 {method 'disable' of '_lsprof.Profiler' objects}"
      ]
     },
     "metadata": {},
     "output_type": "display_data"
    }
   ],
   "source": [
    "%prun -s cumulative flood_fill(start_point, terrain_grid, pathing_grid, max_distance, choke_points)"
   ]
  },
  {
   "cell_type": "code",
   "execution_count": 10,
   "id": "baba26e5-ef9b-405c-a7db-40c989d681cb",
   "metadata": {},
   "outputs": [
    {
     "name": "stderr",
     "output_type": "stream",
     "text": [
      "C:\\Users\\Tom\\AppData\\Local\\pypoetry\\Cache\\virtualenvs\\ares-sc2-S437wHWG-py3.9\\lib\\site-packages\\line_profiler\\ipython_extension.py:71: UserWarning: Could not extract a code object for the object <built-in function flood_fill>\n",
      "  profile = LineProfiler(*funcs)\n"
     ]
    },
    {
     "data": {
      "text/plain": [
       "Timer unit: 1e-07 s"
      ]
     },
     "metadata": {},
     "output_type": "display_data"
    }
   ],
   "source": [
    "%lprun -f flood_fill flood_fill(start_point, terrain_grid, pathing_grid, max_distance, choke_points)"
   ]
  },
  {
   "cell_type": "code",
   "execution_count": 12,
   "id": "87dbe28c-5386-4ca8-afc2-4a3a0d14a6ee",
   "metadata": {},
   "outputs": [
    {
     "data": {
      "text/plain": [
       "<matplotlib.image.AxesImage at 0x290f3fc3760>"
      ]
     },
     "execution_count": 12,
     "metadata": {},
     "output_type": "execute_result"
    },
    {
     "data": {
      "image/png": "[encoded data removed]",
      "text/plain": [
       "<Figure size 640x480 with 1 Axes>"
      ]
     },
     "metadata": {},
     "output_type": "display_data"
    }
   ],
   "source": [
    "h = pathing_grid.copy()\n",
    "for value in flood_fill(start_point, terrain_grid, pathing_grid, max_distance, choke_points):\n",
    "    h[value] = 25\n",
    "plt.imshow(h)"
   ]
  },
  {
   "cell_type": "markdown",
   "id": "9723d500-8a1d-44c3-b9a9-6d97a5e187fb",
   "metadata": {},
   "source": [
    "# Bounding Box"
   ]
  },
  {
   "cell_type": "code",
   "execution_count": 13,
   "id": "d88a5886-8c98-4822-89d8-d0d5bcd37fee",
   "metadata": {},
   "outputs": [],
   "source": [
    "%%cython\n",
    "from cython cimport boundscheck, wraparound\n",
    "# The boundscheck(False) decorator tells Cython that we know that we will not access elements outside the bounds of the units list, which allows for faster indexing. \n",
    "# The wraparound(False) decorator tells Cython that we know that we will not use negative indices to access elements of the list, which also allows for faster indexing.\n",
    "@boundscheck(False)\n",
    "@wraparound(False)\n",
    "cpdef ((float, float), (float, float)) get_bounding_box(set coordinates):\n",
    "    cdef:\n",
    "        float x_min = 9999.0\n",
    "        float x_max = 0.0\n",
    "        float x_val = 0.0\n",
    "        float y_min = 9999.0\n",
    "        float y_max = 0.0\n",
    "        float y_val = 0.0\n",
    "        int start = 0\n",
    "        int stop = len(coordinates)\n",
    "        (float, float) position\n",
    "    for i in range(start, stop):\n",
    "        position = coordinates.pop()\n",
    "        x_val = position[0]\n",
    "        y_val = position[1]\n",
    "        if x_val < x_min:\n",
    "            x_min = x_val\n",
    "        if x_val > x_max:\n",
    "            x_max = x_val\n",
    "        if y_val < y_min:\n",
    "            y_min = y_val\n",
    "        if y_val > y_max:\n",
    "            y_max = y_val\n",
    "    return (x_min, x_max), (y_min, y_max)"
   ]
  },
  {
   "cell_type": "code",
   "execution_count": 14,
   "id": "3b50a5a4-d3f7-4cbe-94fc-663ef198b38e",
   "metadata": {},
   "outputs": [
    {
     "name": "stdout",
     "output_type": "stream",
     "text": [
      "340 µs ± 7.18 µs per loop (mean ± std. dev. of 1000 runs, 10 loops each)\n"
     ]
    }
   ],
   "source": [
    "%timeit -r 1000 -n 10 get_bounding_box(flood_fill(start_point, terrain_grid, pathing_grid, max_distance, choke_points))"
   ]
  },
  {
   "cell_type": "code",
   "execution_count": 15,
   "id": "4e2df8da-1a77-48f1-851e-9437dc5cdb32",
   "metadata": {},
   "outputs": [],
   "source": [
    "raw_x_bounds, raw_y_bounds = get_bounding_box(flood_fill(start_point, terrain_grid, pathing_grid, max_distance, choke_points))"
   ]
  },
  {
   "cell_type": "markdown",
   "id": "443f7269-b6ea-46cb-813c-c991265a214e",
   "metadata": {},
   "source": [
    "# Find building locations with convolution pass"
   ]
  },
  {
   "cell_type": "code",
   "execution_count": 16,
   "id": "0cac97ff-5b48-4fb7-bdab-bb61760c95c1",
   "metadata": {
    "tags": []
   },
   "outputs": [],
   "source": [
    "%%cython\n",
    "\n",
    "from scipy.signal import convolve2d\n",
    "import numpy as np\n",
    "cimport numpy as np\n",
    "cimport cython\n",
    "\n",
    "@cython.boundscheck(False)  # Deactivate bounds checking\n",
    "@cython.wraparound(False)   # Deactivate negative indexing.\n",
    "cpdef bint can_place_structure(\n",
    "    (int, int) building_origin,\n",
    "    (int, int) building_size,\n",
    "    const unsigned char[:, :] creep_grid,\n",
    "    const unsigned char[:, :] placement_grid,\n",
    "    const unsigned char[:, :] pathing_grid,\n",
    "    bint avoid_creep = 1,\n",
    "    bint include_addon = 0\n",
    "):\n",
    "    cdef:\n",
    "        unsigned int size_x = building_size[0]\n",
    "        unsigned int size_y = building_size[1]\n",
    "        unsigned int x = building_origin[0]\n",
    "        unsigned int y = building_origin[1]\n",
    "        unsigned int total = 0\n",
    "        unsigned int area = size_x * size_y\n",
    "        unsigned int creep_check = 1 if avoid_creep else 0\n",
    "    \n",
    "    cdef Py_ssize_t i, j\n",
    "    for i in range(size_y):\n",
    "        for j in range(size_x):\n",
    "            if placement_grid[y + i, x + j] == 0:\n",
    "                return 0\n",
    "            if creep_grid[y + i, x + j] == creep_check:\n",
    "                return 0\n",
    "            if pathing_grid[y + i, x + j] == 1:\n",
    "                return 0\n",
    "    return 1\n",
    "\n",
    "@cython.boundscheck(False)  # Deactivate bounds checking\n",
    "@cython.wraparound(False)   # Deactivate negative indexing.\n",
    "cpdef list find_building_locations(\n",
    "    np.ndarray[np.uint8_t, ndim=2] kernel,\n",
    "    unsigned int x_stride,\n",
    "    unsigned int y_stride,\n",
    "    (unsigned int, unsigned int) x_bounds,\n",
    "    (unsigned int, unsigned int) y_bounds,\n",
    "    const unsigned char[:, :] creep_grid,\n",
    "    const unsigned char[:, :] placement_grid,\n",
    "    const unsigned char[:, :] pathing_grid,\n",
    "    const unsigned char[:, :] points_to_avoid_grid,\n",
    "    unsigned int building_width,\n",
    "    unsigned int building_height,\n",
    "    bint avoid_creep = 1,\n",
    "    bint include_addon = 0\n",
    "):\n",
    "    \"\"\"\n",
    "    Use a convolution pass to find all possible building locations in an area\n",
    "    See full docs in `placement_solver.pyi`\n",
    "    \"\"\"\n",
    "    cdef:\n",
    "        # unsigned int i = 0\n",
    "        # unsigned int j = 0\n",
    "        unsigned int _x = 0\n",
    "        unsigned int _y = 0\n",
    "        unsigned int valid_idx = 0\n",
    "        float x, y\n",
    "        float weighted_x, weighted_y\n",
    "        int x_min = x_bounds[0]\n",
    "        int x_max = x_bounds[1]\n",
    "        int y_min = y_bounds[0]\n",
    "        int y_max = y_bounds[1]\n",
    "        unsigned char[:, :] to_convolve = np.ones((x_max - x_min + 1, y_max - y_min + 1), dtype=np.uint8)\n",
    "        (float, float) [500] valid_spots\n",
    "        (float, float) center\n",
    "        float half_width = building_width / 2\n",
    "        cdef bint avoid = 0\n",
    "    \n",
    "    cdef Py_ssize_t i, j\n",
    "    for i in range(x_min, x_max + 1):\n",
    "        for j in range(y_min, y_max + 1):\n",
    "            if points_to_avoid_grid[j][i] == 0 and creep_grid[j][i] == 0 and placement_grid[j][i] == 1 and pathing_grid[j][i] == 1:\n",
    "                to_convolve[i - x_min][j - y_min] = 0\n",
    "\n",
    "    cdef unsigned char[:, :] result = convolve2d(to_convolve, kernel, mode=\"valid\")\n",
    "    cdef Py_ssize_t k, l\n",
    "    \n",
    "    for i in range(0, result.shape[0], x_stride):\n",
    "        for j in range(0, result.shape[1], y_stride):\n",
    "            if result[i][j] == 0:\n",
    "                x = i + x_min + half_width\n",
    "                y = j + y_min + half_width\n",
    "\n",
    "                if include_addon:\n",
    "                    _x = int(x + 1.5)\n",
    "                    _y = int(y + 0.5)\n",
    "                    if not can_place_structure((_x, _y), (2, 2), creep_grid, placement_grid, pathing_grid, avoid_creep):\n",
    "                        continue\n",
    "                    \n",
    "                    avoid = 0\n",
    "                    for k in range(2):\n",
    "                        for l in range(2):\n",
    "                            if points_to_avoid_grid[_y+k, _x+l]:\n",
    "                                avoid = 1\n",
    "                    if avoid:\n",
    "                        continue\n",
    "\n",
    "                # valid building placement is building center, so add half to x and y\n",
    "                valid_spots[valid_idx][0] = x\n",
    "                valid_spots[valid_idx][1] = y\n",
    "                valid_idx += 1\n",
    "\n",
    "    if valid_idx == 0:\n",
    "        return []\n",
    "\n",
    "    return list(valid_spots)[:valid_idx]"
   ]
  },
  {
   "cell_type": "code",
   "execution_count": 17,
   "id": "827030a1-c1cc-40e3-99a5-e073bc7aae89",
   "metadata": {},
   "outputs": [
    {
     "name": "stdout",
     "output_type": "stream",
     "text": [
      "[(24.5, 139.5), (29.5, 127.5), (29.5, 130.5), (29.5, 133.5), (34.5, 124.5), (34.5, 127.5), (34.5, 130.5), (34.5, 133.5), (39.5, 121.5), (39.5, 124.5), (39.5, 127.5), (39.5, 130.5), (39.5, 133.5), (39.5, 136.5), (39.5, 139.5), (44.5, 118.5), (44.5, 121.5), (44.5, 124.5), (44.5, 127.5), (44.5, 130.5), (44.5, 133.5), (44.5, 136.5), (44.5, 139.5), (49.5, 121.5), (49.5, 124.5), (49.5, 127.5), (49.5, 130.5), (49.5, 133.5), (49.5, 136.5), (49.5, 139.5)]\n"
     ]
    }
   ],
   "source": [
    "kernel: np.ndarray = np.ones(\n",
    "            (3, 3), dtype=np.uint8\n",
    "        )\n",
    "\n",
    "points_to_avoid_grid = np.zeros(bot.game_info.placement_grid.data_numpy.shape, dtype=np.uint8)\n",
    "\n",
    "# avoid within 5.5 distance of base location\n",
    "start_x = int(bot.townhalls[0].position.x - 5.5)\n",
    "start_y = int(bot.townhalls[0].position.y - 5.5)\n",
    "\n",
    "points_to_avoid_grid[start_x:start_x+11, start_y:start_y+11] = 1\n",
    "\n",
    "production_positions = find_building_locations(\n",
    "    kernel, \n",
    "    5,\n",
    "    3,\n",
    "    raw_x_bounds, \n",
    "    raw_y_bounds, \n",
    "    bot.state.creep.data_numpy, \n",
    "    bot.game_info.placement_grid.data_numpy,\n",
    "    data.get_pyastar_grid().astype(np.uint8).T,\n",
    "    # bot.game_info.pathing_grid.data_numpy, \n",
    "    points_to_avoid_grid, \n",
    "    3, \n",
    "    3,\n",
    "    True\n",
    ")\n",
    "print(production_positions)"
   ]
  },
  {
   "cell_type": "code",
   "execution_count": 18,
   "id": "0697d8b7-a77e-4d1b-b3a4-065bb7947a1c",
   "metadata": {},
   "outputs": [
    {
     "name": "stdout",
     "output_type": "stream",
     "text": [
      "The slowest run took 17.90 times longer than the fastest. This could mean that an intermediate result is being cached.\n",
      "1.24 µs ± 633 ns per loop (mean ± std. dev. of 1000 runs, 10 loops each)\n"
     ]
    }
   ],
   "source": [
    "%timeit -r 1000 -n 10 can_place_structure((25, 25), (3, 3), bot.state.creep.data_numpy, bot.game_info.placement_grid.data_numpy, pathing_grid)"
   ]
  },
  {
   "cell_type": "code",
   "execution_count": 19,
   "id": "5f670f55-1c6a-496c-8e57-183a457360c1",
   "metadata": {},
   "outputs": [
    {
     "name": "stdout",
     "output_type": "stream",
     "text": [
      "63.3 µs ± 2.66 µs per loop (mean ± std. dev. of 1000 runs, 10 loops each)\n"
     ]
    }
   ],
   "source": [
    "%timeit -r 1000 -n 10 find_building_locations(kernel, 5,3, raw_x_bounds, raw_y_bounds, bot.state.creep.data_numpy, bot.game_info.placement_grid.data_numpy, pathing_grid, points_to_avoid_grid, 3, 3,True)"
   ]
  },
  {
   "cell_type": "markdown",
   "id": "7a791013-e4dd-4a22-bfed-473b568f9b32",
   "metadata": {},
   "source": [
    "## Example of how placement locations could be stored"
   ]
  },
  {
   "cell_type": "code",
   "execution_count": 20,
   "id": "05e12441-690f-4ced-804e-07c3e0403e22",
   "metadata": {},
   "outputs": [],
   "source": [
    "placements_dict = dict()"
   ]
  },
  {
   "cell_type": "code",
   "execution_count": 21,
   "id": "7e15a4d5-254c-49bb-ba6a-05fdec191c9f",
   "metadata": {},
   "outputs": [],
   "source": [
    "placements_dict[bot.townhalls[0].position] = {}\n",
    "placements_dict[bot.townhalls[0].position][\"3x3\"] = {}\n",
    "for pos in production_positions:\n",
    "    x: float = pos[0]\n",
    "    y: float = pos[1]\n",
    "    point2_pos: Point2 = Point2((x, y))\n",
    "    placements_dict[bot.townhalls[0].position][\"3x3\"][point2_pos] = {\n",
    "                        \"available\": True,\n",
    "                        \"has_addon\": False,\n",
    "                        \"is_wall\": False,\n",
    "                        \"tag\": 0, # structure tag if not available\n",
    "                        \"worker_on_route\": False # available but recently requested\n",
    "                    }\n",
    "placements_dict[Point2((300.0, 300.0))] = {}"
   ]
  },
  {
   "cell_type": "code",
   "execution_count": 22,
   "id": "3d5660d6-f32a-4486-98d4-d30059a286a7",
   "metadata": {},
   "outputs": [
    {
     "data": {
      "text/plain": [
       "{(120.5,\n",
       "  24.5): {'3x3': {(24.5, 139.5): {'available': True,\n",
       "    'has_addon': False,\n",
       "    'is_wall': False,\n",
       "    'tag': 0,\n",
       "    'worker_on_route': False},\n",
       "   (29.5, 127.5): {'available': True,\n",
       "    'has_addon': False,\n",
       "    'is_wall': False,\n",
       "    'tag': 0,\n",
       "    'worker_on_route': False},\n",
       "   (29.5, 130.5): {'available': True,\n",
       "    'has_addon': False,\n",
       "    'is_wall': False,\n",
       "    'tag': 0,\n",
       "    'worker_on_route': False},\n",
       "   (29.5, 133.5): {'available': True,\n",
       "    'has_addon': False,\n",
       "    'is_wall': False,\n",
       "    'tag': 0,\n",
       "    'worker_on_route': False},\n",
       "   (34.5, 124.5): {'available': True,\n",
       "    'has_addon': False,\n",
       "    'is_wall': False,\n",
       "    'tag': 0,\n",
       "    'worker_on_route': False},\n",
       "   (34.5, 127.5): {'available': True,\n",
       "    'has_addon': False,\n",
       "    'is_wall': False,\n",
       "    'tag': 0,\n",
       "    'worker_on_route': False},\n",
       "   (34.5, 130.5): {'available': True,\n",
       "    'has_addon': False,\n",
       "    'is_wall': False,\n",
       "    'tag': 0,\n",
       "    'worker_on_route': False},\n",
       "   (34.5, 133.5): {'available': True,\n",
       "    'has_addon': False,\n",
       "    'is_wall': False,\n",
       "    'tag': 0,\n",
       "    'worker_on_route': False},\n",
       "   (39.5, 121.5): {'available': True,\n",
       "    'has_addon': False,\n",
       "    'is_wall': False,\n",
       "    'tag': 0,\n",
       "    'worker_on_route': False},\n",
       "   (39.5, 124.5): {'available': True,\n",
       "    'has_addon': False,\n",
       "    'is_wall': False,\n",
       "    'tag': 0,\n",
       "    'worker_on_route': False},\n",
       "   (39.5, 127.5): {'available': True,\n",
       "    'has_addon': False,\n",
       "    'is_wall': False,\n",
       "    'tag': 0,\n",
       "    'worker_on_route': False},\n",
       "   (39.5, 130.5): {'available': True,\n",
       "    'has_addon': False,\n",
       "    'is_wall': False,\n",
       "    'tag': 0,\n",
       "    'worker_on_route': False},\n",
       "   (39.5, 133.5): {'available': True,\n",
       "    'has_addon': False,\n",
       "    'is_wall': False,\n",
       "    'tag': 0,\n",
       "    'worker_on_route': False},\n",
       "   (39.5, 136.5): {'available': True,\n",
       "    'has_addon': False,\n",
       "    'is_wall': False,\n",
       "    'tag': 0,\n",
       "    'worker_on_route': False},\n",
       "   (39.5, 139.5): {'available': True,\n",
       "    'has_addon': False,\n",
       "    'is_wall': False,\n",
       "    'tag': 0,\n",
       "    'worker_on_route': False},\n",
       "   (44.5, 118.5): {'available': True,\n",
       "    'has_addon': False,\n",
       "    'is_wall': False,\n",
       "    'tag': 0,\n",
       "    'worker_on_route': False},\n",
       "   (44.5, 121.5): {'available': True,\n",
       "    'has_addon': False,\n",
       "    'is_wall': False,\n",
       "    'tag': 0,\n",
       "    'worker_on_route': False},\n",
       "   (44.5, 124.5): {'available': True,\n",
       "    'has_addon': False,\n",
       "    'is_wall': False,\n",
       "    'tag': 0,\n",
       "    'worker_on_route': False},\n",
       "   (44.5, 127.5): {'available': True,\n",
       "    'has_addon': False,\n",
       "    'is_wall': False,\n",
       "    'tag': 0,\n",
       "    'worker_on_route': False},\n",
       "   (44.5, 130.5): {'available': True,\n",
       "    'has_addon': False,\n",
       "    'is_wall': False,\n",
       "    'tag': 0,\n",
       "    'worker_on_route': False},\n",
       "   (44.5, 133.5): {'available': True,\n",
       "    'has_addon': False,\n",
       "    'is_wall': False,\n",
       "    'tag': 0,\n",
       "    'worker_on_route': False},\n",
       "   (44.5, 136.5): {'available': True,\n",
       "    'has_addon': False,\n",
       "    'is_wall': False,\n",
       "    'tag': 0,\n",
       "    'worker_on_route': False},\n",
       "   (44.5, 139.5): {'available': True,\n",
       "    'has_addon': False,\n",
       "    'is_wall': False,\n",
       "    'tag': 0,\n",
       "    'worker_on_route': False},\n",
       "   (49.5, 121.5): {'available': True,\n",
       "    'has_addon': False,\n",
       "    'is_wall': False,\n",
       "    'tag': 0,\n",
       "    'worker_on_route': False},\n",
       "   (49.5, 124.5): {'available': True,\n",
       "    'has_addon': False,\n",
       "    'is_wall': False,\n",
       "    'tag': 0,\n",
       "    'worker_on_route': False},\n",
       "   (49.5, 127.5): {'available': True,\n",
       "    'has_addon': False,\n",
       "    'is_wall': False,\n",
       "    'tag': 0,\n",
       "    'worker_on_route': False},\n",
       "   (49.5, 130.5): {'available': True,\n",
       "    'has_addon': False,\n",
       "    'is_wall': False,\n",
       "    'tag': 0,\n",
       "    'worker_on_route': False},\n",
       "   (49.5, 133.5): {'available': True,\n",
       "    'has_addon': False,\n",
       "    'is_wall': False,\n",
       "    'tag': 0,\n",
       "    'worker_on_route': False},\n",
       "   (49.5, 136.5): {'available': True,\n",
       "    'has_addon': False,\n",
       "    'is_wall': False,\n",
       "    'tag': 0,\n",
       "    'worker_on_route': False},\n",
       "   (49.5, 139.5): {'available': True,\n",
       "    'has_addon': False,\n",
       "    'is_wall': False,\n",
       "    'tag': 0,\n",
       "    'worker_on_route': False}}},\n",
       " (300.0, 300.0): {}}"
      ]
     },
     "execution_count": 22,
     "metadata": {},
     "output_type": "execute_result"
    }
   ],
   "source": [
    "placements_dict"
   ]
  },
  {
   "cell_type": "code",
   "execution_count": null,
   "id": "035e0b4d-ac64-4dcc-bf6c-061e22c0bd5e",
   "metadata": {},
   "outputs": [],
   "source": []
  }
 ],
 "metadata": {
  "kernelspec": {
   "display_name": "Poetry",
   "language": "python",
   "name": "poetry-kernel"
  },
  "language_info": {
   "codemirror_mode": {
    "name": "ipython",
    "version": 3
   },
   "file_extension": ".py",
   "mimetype": "text/x-python",
   "name": "python",
   "nbconvert_exporter": "python",
   "pygments_lexer": "ipython3",
   "version": "3.11.3"
  }
 },
 "nbformat": 4,
 "nbformat_minor": 5
}
