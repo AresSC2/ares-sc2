{
 "cells": [
  {
   "cell_type": "code",
   "execution_count": 28,
   "id": "05bc0674-6a7d-4692-8996-8f1c3cc28815",
   "metadata": {
    "tags": []
   },
   "outputs": [
    {
     "name": "stdout",
     "output_type": "stream",
     "text": [
      "The line_profiler extension is already loaded. To reload it, use:\n",
      "  %reload_ext line_profiler\n",
      "The Cython extension is already loaded. To reload it, use:\n",
      "  %reload_ext Cython\n"
     ]
    }
   ],
   "source": [
    "import sys\n",
    "import lzma\n",
    "from s2clientprotocol.sc2api_pb2 import Response, ResponseObservation\n",
    "from MapAnalyzer.utils import import_bot_instance\n",
    "from MapAnalyzer import MapData\n",
    "import pickle\n",
    "import numpy as np\n",
    "import matplotlib.pyplot as plt\n",
    "sys.path.append(\"src\")\n",
    "sys.path.append(\"src/ares\")\n",
    "from rust_helpers import number_of_chokes_pathed_through, terrain_flood_fill\n",
    "%load_ext line_profiler\n",
    "%load_ext Cython"
   ]
  },
  {
   "cell_type": "code",
   "execution_count": 2,
   "id": "1c371ea4-2f8c-4eb4-9da8-a37933969715",
   "metadata": {
    "tags": []
   },
   "outputs": [],
   "source": [
    "BERLINGRAD = \"tests/pickle_data/BerlingradAIE.xz\""
   ]
  },
  {
   "cell_type": "code",
   "execution_count": 3,
   "id": "5a678018-201c-4ebf-8ced-e23c0adcd9c9",
   "metadata": {
    "tags": []
   },
   "outputs": [
    {
     "name": "stderr",
     "output_type": "stream",
     "text": [
      "2023-05-06 14:28:56.771 | INFO     | MapAnalyzer.MapData:__init__:122 - dev Compiling Berlingrad AIE \u001b[32m\n",
      "\u001b[32m Version dev Map Compilation Progress \u001b[37m: 0.2it [00:00,  1.07it/s]\n"
     ]
    }
   ],
   "source": [
    "with lzma.open(BERLINGRAD, \"rb\") as f:\n",
    "    raw_game_data, raw_game_info, raw_observation = pickle.load(f)\n",
    "bot = import_bot_instance(raw_game_data, raw_game_info, raw_observation)\n",
    "data = MapData(bot)"
   ]
  },
  {
   "cell_type": "code",
   "execution_count": 4,
   "id": "7eacc8f6-44dc-4132-b1bf-012a105b1a6b",
   "metadata": {
    "tags": []
   },
   "outputs": [],
   "source": [
    "%%cython\n",
    "from cython cimport boundscheck, wraparound\n",
    "\n",
    "cdef unsigned int euclidean_distance_squared_int((unsigned int, unsigned int) p1, (unsigned int, unsigned int) p2):\n",
    "    return (p1[0] - p2[0]) ** 2 + (p1[1] - p2[1]) ** 2\n",
    "\n",
    "cpdef set flood_fill(\n",
    "    (unsigned int, unsigned int) start_point, \n",
    "    const unsigned char[:, :] terrain_grid, \n",
    "    const unsigned char[:, :] pathing_grid, \n",
    "    unsigned int max_distance, \n",
    "    set choke_points\n",
    "):\n",
    "    cdef:\n",
    "        unsigned int terrain_height = terrain_grid[start_point[0], start_point[1]]\n",
    "        unsigned int pathing_value = pathing_grid[start_point[0], start_point[1]]\n",
    "        set filled_points = set()\n",
    "\n",
    "    # Only continue if we can get a height for the starting point\n",
    "    if not terrain_height:\n",
    "        return filled_points\n",
    "    \n",
    "    if pathing_value != 1:\n",
    "        return filled_points\n",
    "        \n",
    "    grid_flood_fill(start_point, terrain_grid, pathing_grid, terrain_height, filled_points, start_point, max_distance, choke_points)\n",
    "    return filled_points\n",
    "\n",
    "cdef set grid_flood_fill(\n",
    "    (unsigned int, unsigned int) point, \n",
    "    const unsigned char[:, :] terrain_grid, \n",
    "    const unsigned char[:, :] pathing_grid, \n",
    "    unsigned int target_val, \n",
    "    set current_vec, \n",
    "    (unsigned int, unsigned int) start_point, \n",
    "    unsigned int max_distance, \n",
    "    set choke_points):\n",
    "    cdef:\n",
    "        unsigned int terrain_height = terrain_grid[start_point[0], start_point[1]]\n",
    "        unsigned int pathing_value = pathing_grid[start_point[0], start_point[1]]\n",
    "    # Check that we haven't already added this point.\n",
    "    if point in current_vec:\n",
    "        return current_vec\n",
    "\n",
    "    # Check that this point isn't too far away from the start\n",
    "    if euclidean_distance_squared_int(point, start_point) > max_distance ** 2:\n",
    "        return current_vec\n",
    "\n",
    "    if point in choke_points:\n",
    "        return current_vec\n",
    "\n",
    "    terrain_height = terrain_grid[point[0], point[1]]\n",
    "    pathing_value = pathing_grid[point[0], point[1]]\n",
    "    if terrain_height != target_val or pathing_value != 1:\n",
    "        return current_vec\n",
    "    \n",
    "    current_vec.add(point)\n",
    "    grid_flood_fill((point[0]+1, point[1]), terrain_grid, pathing_grid, terrain_height, current_vec, start_point, max_distance, choke_points)\n",
    "    grid_flood_fill((point[0]-1, point[1]), terrain_grid, pathing_grid, terrain_height, current_vec, start_point, max_distance, choke_points)\n",
    "    grid_flood_fill((point[0], point[1]+1), terrain_grid, pathing_grid, terrain_height, current_vec, start_point, max_distance, choke_points)\n",
    "    grid_flood_fill((point[0], point[1]-1), terrain_grid, pathing_grid, terrain_height, current_vec, start_point, max_distance, choke_points)"
   ]
  },
  {
   "cell_type": "code",
   "execution_count": 5,
   "id": "c387c758-2c5d-4dfd-aa5e-623cd63b6525",
   "metadata": {
    "tags": []
   },
   "outputs": [],
   "source": [
    "%%cython\n",
    "from cython cimport boundscheck, wraparound\n",
    "# The boundscheck(False) decorator tells Cython that we know that we will not access elements outside the bounds of the units list, which allows for faster indexing. \n",
    "# The wraparound(False) decorator tells Cython that we know that we will not use negative indices to access elements of the list, which also allows for faster indexing.\n",
    "@boundscheck(False)\n",
    "@wraparound(False)\n",
    "cpdef ((float, float), (float, float)) get_bounding_box(set coordinates):\n",
    "    cdef:\n",
    "        float x_min = 9999.0\n",
    "        float x_max = 0.0\n",
    "        float x_val = 0.0\n",
    "        float y_min = 9999.0\n",
    "        float y_max = 0.0\n",
    "        float y_val = 0.0\n",
    "        int start = 0\n",
    "        int stop = len(coordinates)\n",
    "        (float, float) position\n",
    "    for i in range(start, stop):\n",
    "        position = coordinates.pop()\n",
    "        x_val = position[0]\n",
    "        y_val = position[1]\n",
    "        if x_val < x_min:\n",
    "            x_min = x_val\n",
    "        if x_val > x_max:\n",
    "            x_max = x_val\n",
    "        if y_val < y_min:\n",
    "            y_min = y_val\n",
    "        if y_val > y_max:\n",
    "            y_max = y_val\n",
    "    return (x_min, x_max), (y_min, y_max)"
   ]
  },
  {
   "cell_type": "code",
   "execution_count": 29,
   "id": "08cea231-94ce-4652-99f0-e7b2766f3163",
   "metadata": {
    "tags": []
   },
   "outputs": [],
   "source": [
    "%%cython\n",
    "\n",
    "from scipy.signal import convolve2d\n",
    "import numpy as np\n",
    "cimport numpy as np\n",
    "\n",
    "cpdef find_building_locations(\n",
    "    np.ndarray[np.uint8_t, ndim=2] kernel,\n",
    "    int x_stride,\n",
    "    int y_stride,\n",
    "    (int, int) x_bounds,\n",
    "    (int, int) y_bounds,\n",
    "    const unsigned char[:, :] creep_grid,\n",
    "    const unsigned char[:, :] placement_grid,\n",
    "    const unsigned char[:, :] vision_grid,\n",
    "    const float[:, :] pathing_grid,\n",
    "    const unsigned char[:, :] points_to_avoid_grid,\n",
    "    unsigned int building_width,\n",
    "    unsigned int building_height,\n",
    "    bint include_addon = False,\n",
    "):\n",
    "    \"\"\"\n",
    "    Use a convolution pass to find all possible building locations in an area\n",
    "    See full docs in `placement_solver.pyi`\n",
    "    \n",
    "    Note - removed the padding argument since np.ones(dims) works\n",
    "    \"\"\"\n",
    "    cdef:\n",
    "        unsigned int i = 0\n",
    "        unsigned int j = 0\n",
    "        unsigned int _x = 0\n",
    "        unsigned int _y = 0\n",
    "        unsigned int valid_idx = 0\n",
    "        float x, y\n",
    "        float weighted_x, weighted_y\n",
    "        int x_min = x_bounds[0]\n",
    "        int x_max = x_bounds[1]\n",
    "        int y_min = y_bounds[0]\n",
    "        int y_max = y_bounds[1]\n",
    "        unsigned char[:, :] to_convolve = np.ones((x_max - x_min + 1, y_max - y_min + 1), dtype=np.uint8)\n",
    "        (float, float) [500] valid_spots\n",
    "        (float, float) center\n",
    "        float half_width = building_width / 2\n",
    "\n",
    "    # use an inverted placement grid and check that all tiles are placeable\n",
    "    for i in range(x_min, x_max + 1):\n",
    "        for j in range(y_min, y_max + 1):\n",
    "            if points_to_avoid_grid[j][i] == 0 and creep_grid[j][i] == 0 and placement_grid[j][i] == 1 and pathing_grid[j][i] == 1:\n",
    "                to_convolve[i - x_min][j - y_min] = 0\n",
    "\n",
    "    cdef unsigned char[:, :] result = convolve2d(to_convolve, kernel, mode=\"valid\")\n",
    "\n",
    "    for i in range(0, result.shape[0], x_stride):\n",
    "        for j in range(0, result.shape[1], y_stride):\n",
    "            # check that the result is 0 now- if any tile is unplaceable, the total will be >= 1\n",
    "            if result[i][j] == 0:\n",
    "                x = i + x_min + half_width\n",
    "                y = j + y_min + half_width\n",
    "\n",
    "                if include_addon:\n",
    "                    _x = int(x + 3.5)\n",
    "                    _y = int(y - 1.5)\n",
    "                    # check placement of edge of addon\n",
    "                    if placement_grid[_y][_x] == 0 or creep_grid[_y][_x] == 1 or pathing_grid[_y][_x] == 0 or points_to_avoid_grid[_y][_x] == 1:\n",
    "                        continue\n",
    "                    if placement_grid[_y-1][_x] == 0 or creep_grid[_y-1][_x] == 1 or pathing_grid[_y-1][_x] == 0 or points_to_avoid_grid[_y-1][_x] == 1:\n",
    "                        continue\n",
    "                    if placement_grid[_y+1][_x] == 0 or creep_grid[_y+1][_x] == 1 or pathing_grid[_y+1][_x] == 0 or points_to_avoid_grid[_y+1][_x] == 1:\n",
    "                        continue\n",
    "                # valid building placement is building center, so add half to x and y\n",
    "                valid_spots[valid_idx][0] = x\n",
    "                valid_spots[valid_idx][1] = y\n",
    "                valid_idx += 1\n",
    "\n",
    "            if valid_idx >= 500:\n",
    "                # we've reached the maximum number of valid spots\n",
    "                break\n",
    "\n",
    "    if valid_idx == 0:\n",
    "        return [], (0, 0)\n",
    "\n",
    "    i = 0\n",
    "    for i in range(0, valid_idx):\n",
    "        weighted_x += valid_spots[i][0]\n",
    "        weighted_y += valid_spots[i][1]\n",
    "\n",
    "    center = (weighted_x / valid_idx, weighted_y / valid_idx)\n",
    "\n",
    "    return list(valid_spots)[:valid_idx], center"
   ]
  },
  {
   "cell_type": "code",
   "execution_count": 7,
   "id": "39e6de43-7f9f-4823-a53d-8ecf7e07e7e2",
   "metadata": {
    "tags": []
   },
   "outputs": [],
   "source": [
    "start_point=bot.enemy_start_locations[0].rounded\n",
    "terrain_grid=bot.game_info.terrain_height.data_numpy.T\n",
    "pathing_grid=data.get_pyastar_grid().astype(np.uint8)\n",
    "max_distance=20\n",
    "choke_points=set(\n",
    "        [point for ch in data.map_chokes for point in ch.points]\n",
    "    )"
   ]
  },
  {
   "cell_type": "code",
   "execution_count": 8,
   "id": "69310e94-f5fb-4dbc-8fdb-50e7ade796f1",
   "metadata": {
    "tags": []
   },
   "outputs": [],
   "source": [
    "raw_x_bounds, raw_y_bounds = get_bounding_box(flood_fill(start_point, terrain_grid, pathing_grid, max_distance, choke_points))"
   ]
  },
  {
   "cell_type": "code",
   "execution_count": 34,
   "id": "fa0ff579-3c52-4c5c-91d4-4341722c1ac9",
   "metadata": {
    "tags": []
   },
   "outputs": [
    {
     "name": "stdout",
     "output_type": "stream",
     "text": [
      "Production Positions:\n"
     ]
    },
    {
     "data": {
      "text/plain": [
       "[(24.5, 130.5),\n",
       " (29.5, 130.5),\n",
       " (39.5, 121.5),\n",
       " (39.5, 124.5),\n",
       " (39.5, 127.5),\n",
       " (39.5, 130.5),\n",
       " (44.5, 118.5),\n",
       " (44.5, 121.5),\n",
       " (44.5, 124.5),\n",
       " (44.5, 133.5),\n",
       " (49.5, 121.5),\n",
       " (49.5, 124.5),\n",
       " (49.5, 127.5),\n",
       " (49.5, 133.5)]"
      ]
     },
     "execution_count": 34,
     "metadata": {},
     "output_type": "execute_result"
    }
   ],
   "source": [
    "\"\"\"\n",
    "3x3 kernel, use standard strides\n",
    "\"\"\"\n",
    "kernel: np.ndarray = np.ones(\n",
    "            (3, 3), dtype=np.uint8\n",
    "        )\n",
    "\n",
    "points_to_avoid_grid = np.zeros(bot.game_info.placement_grid.data_numpy.shape, dtype=np.uint8)\n",
    "\n",
    "# avoid within 5.5 distance of base location\n",
    "start_x = int(bot.townhalls[0].position.x - 5.5)\n",
    "start_y = int(bot.townhalls[0].position.y - 5.5)\n",
    "\n",
    "points_to_avoid_grid[start_x:start_x+11, start_y:start_y+11] = 1\n",
    "\n",
    "production_positions, _center = find_building_locations(\n",
    "    kernel=kernel, \n",
    "    x_stride=5,\n",
    "    y_stride=3,\n",
    "    x_bounds=raw_x_bounds, \n",
    "    y_bounds=raw_y_bounds, \n",
    "    creep_grid=bot.state.creep.data_numpy, \n",
    "    placement_grid=bot.game_info.placement_grid.data_numpy, \n",
    "    vision_grid=bot.state.visibility.data_numpy, \n",
    "    pathing_grid=data.get_pyastar_grid(),\n",
    "    # bot.game_info.pathing_grid.data_numpy, \n",
    "    points_to_avoid_grid=points_to_avoid_grid, \n",
    "    building_width=3, \n",
    "    building_height=3,\n",
    "    include_addon=False,\n",
    ")\n",
    "print(\"Production Positions:\")\n",
    "production_positions"
   ]
  },
  {
   "cell_type": "code",
   "execution_count": 33,
   "id": "acae12fd-5db8-407b-ab57-6527807d72d4",
   "metadata": {
    "tags": []
   },
   "outputs": [
    {
     "name": "stdout",
     "output_type": "stream",
     "text": [
      "Production Positions:\n"
     ]
    },
    {
     "data": {
      "text/plain": [
       "[(44.5, 119.5), (44.5, 120.5), (44.5, 121.5)]"
      ]
     },
     "execution_count": 33,
     "metadata": {},
     "output_type": "execute_result"
    }
   ],
   "source": [
    "\"\"\"\n",
    "8x8 kernel - much stricter on placements so reduce stride\n",
    "\"\"\"\n",
    "kernel: np.ndarray = np.ones(\n",
    "            (8, 8), dtype=np.uint8\n",
    "        )\n",
    "\n",
    "points_to_avoid_grid = np.zeros(bot.game_info.placement_grid.data_numpy.shape, dtype=np.uint8)\n",
    "\n",
    "# avoid within 5.5 distance of base location\n",
    "start_x = int(bot.townhalls[0].position.x - 5.5)\n",
    "start_y = int(bot.townhalls[0].position.y - 5.5)\n",
    "\n",
    "points_to_avoid_grid[start_x:start_x+11, start_y:start_y+11] = 1\n",
    "\n",
    "production_positions, _center = find_building_locations(\n",
    "    kernel=kernel, \n",
    "    x_stride=1,\n",
    "    y_stride=1,\n",
    "    x_bounds=raw_x_bounds, \n",
    "    y_bounds=raw_y_bounds, \n",
    "    creep_grid=bot.state.creep.data_numpy, \n",
    "    placement_grid=bot.game_info.placement_grid.data_numpy, \n",
    "    vision_grid=bot.state.visibility.data_numpy, \n",
    "    pathing_grid=data.get_pyastar_grid(),\n",
    "    # bot.game_info.pathing_grid.data_numpy, \n",
    "    points_to_avoid_grid=points_to_avoid_grid, \n",
    "    building_width=3, \n",
    "    building_height=3,\n",
    "    include_addon=False,\n",
    ")\n",
    "print(\"Production Positions:\")\n",
    "production_positions"
   ]
  },
  {
   "cell_type": "code",
   "execution_count": null,
   "id": "8cf9e67e-35df-4628-99fb-76f2db52b89f",
   "metadata": {},
   "outputs": [],
   "source": []
  }
 ],
 "metadata": {
  "kernelspec": {
   "display_name": "Python 3 (ipykernel)",
   "language": "python",
   "name": "python3"
  },
  "language_info": {
   "codemirror_mode": {
    "name": "ipython",
    "version": 3
   },
   "file_extension": ".py",
   "mimetype": "text/x-python",
   "name": "python",
   "nbconvert_exporter": "python",
   "pygments_lexer": "ipython3",
   "version": "3.9.5"
  }
 },
 "nbformat": 4,
 "nbformat_minor": 5
}
